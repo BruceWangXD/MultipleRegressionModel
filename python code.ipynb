{
 "cells": [
  {
   "cell_type": "code",
   "execution_count": 1,
   "id": "adjusted-bacteria",
   "metadata": {},
   "outputs": [],
   "source": [
    "import pandas as pd\n",
    "import numpy as np\n",
    "import statsmodels.api as sm\n",
    "import statsmodels.formula.api as smf\n",
    "import matplotlib.pyplot as plt\n",
    "import seaborn as sns #conda install seaborn in the command prompt if not available\n",
    "from scipy import stats\n",
    "import os\n",
    "get_ipython().magic('matplotlib inline')\n",
    "import warnings\n",
    "warnings.filterwarnings('ignore')"
   ]
  },
  {
   "cell_type": "code",
   "execution_count": 2,
   "id": "partial-dietary",
   "metadata": {},
   "outputs": [],
   "source": [
    "data=pd.read_excel('caschool.xlsx')\n"
   ]
  },
  {
   "cell_type": "code",
   "execution_count": 3,
   "id": "adequate-copying",
   "metadata": {},
   "outputs": [
    {
     "data": {
      "text/plain": [
       "['Observation Number',\n",
       " 'dist_cod',\n",
       " 'county',\n",
       " 'district',\n",
       " 'gr_span',\n",
       " 'enrl_tot',\n",
       " 'teachers',\n",
       " 'calw_pct',\n",
       " 'meal_pct',\n",
       " 'computer',\n",
       " 'testscr',\n",
       " 'comp_stu',\n",
       " 'expn_stu',\n",
       " 'str',\n",
       " 'avginc',\n",
       " 'el_pct',\n",
       " 'read_scr',\n",
       " 'math_scr',\n",
       " 'Unnamed: 18',\n",
       " 'Unnamed: 19',\n",
       " 'Unnamed: 20',\n",
       " 'Unnamed: 21',\n",
       " 'Unnamed: 22',\n",
       " 'Unnamed: 23']"
      ]
     },
     "execution_count": 3,
     "metadata": {},
     "output_type": "execute_result"
    }
   ],
   "source": [
    "list(data)"
   ]
  },
  {
   "cell_type": "code",
   "execution_count": 4,
   "id": "dramatic-exploration",
   "metadata": {},
   "outputs": [
    {
     "data": {
      "text/html": [
       "<div>\n",
       "<style scoped>\n",
       "    .dataframe tbody tr th:only-of-type {\n",
       "        vertical-align: middle;\n",
       "    }\n",
       "\n",
       "    .dataframe tbody tr th {\n",
       "        vertical-align: top;\n",
       "    }\n",
       "\n",
       "    .dataframe thead th {\n",
       "        text-align: right;\n",
       "    }\n",
       "</style>\n",
       "<table border=\"1\" class=\"dataframe\">\n",
       "  <thead>\n",
       "    <tr style=\"text-align: right;\">\n",
       "      <th></th>\n",
       "      <th>Observation Number</th>\n",
       "      <th>dist_cod</th>\n",
       "      <th>county</th>\n",
       "      <th>district</th>\n",
       "      <th>gr_span</th>\n",
       "      <th>enrl_tot</th>\n",
       "      <th>teachers</th>\n",
       "      <th>calw_pct</th>\n",
       "      <th>meal_pct</th>\n",
       "      <th>computer</th>\n",
       "      <th>...</th>\n",
       "      <th>avginc</th>\n",
       "      <th>el_pct</th>\n",
       "      <th>read_scr</th>\n",
       "      <th>math_scr</th>\n",
       "      <th>Unnamed: 18</th>\n",
       "      <th>Unnamed: 19</th>\n",
       "      <th>Unnamed: 20</th>\n",
       "      <th>Unnamed: 21</th>\n",
       "      <th>Unnamed: 22</th>\n",
       "      <th>Unnamed: 23</th>\n",
       "    </tr>\n",
       "  </thead>\n",
       "  <tbody>\n",
       "    <tr>\n",
       "      <th>0</th>\n",
       "      <td>1</td>\n",
       "      <td>75119</td>\n",
       "      <td>Alameda</td>\n",
       "      <td>Sunol Glen Unified</td>\n",
       "      <td>KK-08</td>\n",
       "      <td>195</td>\n",
       "      <td>10.900000</td>\n",
       "      <td>0.510200</td>\n",
       "      <td>2.040800</td>\n",
       "      <td>67</td>\n",
       "      <td>...</td>\n",
       "      <td>22.690001</td>\n",
       "      <td>0.000000</td>\n",
       "      <td>691.599976</td>\n",
       "      <td>690.000000</td>\n",
       "      <td>NaN</td>\n",
       "      <td>NaN</td>\n",
       "      <td>NaN</td>\n",
       "      <td>NaN</td>\n",
       "      <td>NaN</td>\n",
       "      <td>NaN</td>\n",
       "    </tr>\n",
       "    <tr>\n",
       "      <th>1</th>\n",
       "      <td>2</td>\n",
       "      <td>61499</td>\n",
       "      <td>Butte</td>\n",
       "      <td>Manzanita Elementary</td>\n",
       "      <td>KK-08</td>\n",
       "      <td>240</td>\n",
       "      <td>11.150000</td>\n",
       "      <td>15.416700</td>\n",
       "      <td>47.916698</td>\n",
       "      <td>101</td>\n",
       "      <td>...</td>\n",
       "      <td>9.824000</td>\n",
       "      <td>4.583333</td>\n",
       "      <td>660.500000</td>\n",
       "      <td>661.900024</td>\n",
       "      <td>NaN</td>\n",
       "      <td>NaN</td>\n",
       "      <td>NaN</td>\n",
       "      <td>NaN</td>\n",
       "      <td>NaN</td>\n",
       "      <td>NaN</td>\n",
       "    </tr>\n",
       "    <tr>\n",
       "      <th>2</th>\n",
       "      <td>3</td>\n",
       "      <td>61549</td>\n",
       "      <td>Butte</td>\n",
       "      <td>Thermalito Union Elementary</td>\n",
       "      <td>KK-08</td>\n",
       "      <td>1550</td>\n",
       "      <td>82.900002</td>\n",
       "      <td>55.032299</td>\n",
       "      <td>76.322601</td>\n",
       "      <td>169</td>\n",
       "      <td>...</td>\n",
       "      <td>8.978000</td>\n",
       "      <td>30.000002</td>\n",
       "      <td>636.299988</td>\n",
       "      <td>650.900024</td>\n",
       "      <td>NaN</td>\n",
       "      <td>NaN</td>\n",
       "      <td>NaN</td>\n",
       "      <td>NaN</td>\n",
       "      <td>NaN</td>\n",
       "      <td>NaN</td>\n",
       "    </tr>\n",
       "    <tr>\n",
       "      <th>3</th>\n",
       "      <td>4</td>\n",
       "      <td>61457</td>\n",
       "      <td>Butte</td>\n",
       "      <td>Golden Feather Union Elementary</td>\n",
       "      <td>KK-08</td>\n",
       "      <td>243</td>\n",
       "      <td>14.000000</td>\n",
       "      <td>36.475399</td>\n",
       "      <td>77.049202</td>\n",
       "      <td>85</td>\n",
       "      <td>...</td>\n",
       "      <td>8.978000</td>\n",
       "      <td>0.000000</td>\n",
       "      <td>651.900024</td>\n",
       "      <td>643.500000</td>\n",
       "      <td>NaN</td>\n",
       "      <td>NaN</td>\n",
       "      <td>NaN</td>\n",
       "      <td>NaN</td>\n",
       "      <td>NaN</td>\n",
       "      <td>NaN</td>\n",
       "    </tr>\n",
       "    <tr>\n",
       "      <th>4</th>\n",
       "      <td>5</td>\n",
       "      <td>61523</td>\n",
       "      <td>Butte</td>\n",
       "      <td>Palermo Union Elementary</td>\n",
       "      <td>KK-08</td>\n",
       "      <td>1335</td>\n",
       "      <td>71.500000</td>\n",
       "      <td>33.108601</td>\n",
       "      <td>78.427002</td>\n",
       "      <td>171</td>\n",
       "      <td>...</td>\n",
       "      <td>9.080333</td>\n",
       "      <td>13.857677</td>\n",
       "      <td>641.799988</td>\n",
       "      <td>639.900024</td>\n",
       "      <td>NaN</td>\n",
       "      <td>NaN</td>\n",
       "      <td>NaN</td>\n",
       "      <td>NaN</td>\n",
       "      <td>NaN</td>\n",
       "      <td>NaN</td>\n",
       "    </tr>\n",
       "  </tbody>\n",
       "</table>\n",
       "<p>5 rows × 24 columns</p>\n",
       "</div>"
      ],
      "text/plain": [
       "   Observation Number  dist_cod   county                         district  \\\n",
       "0                   1     75119  Alameda               Sunol Glen Unified   \n",
       "1                   2     61499    Butte             Manzanita Elementary   \n",
       "2                   3     61549    Butte      Thermalito Union Elementary   \n",
       "3                   4     61457    Butte  Golden Feather Union Elementary   \n",
       "4                   5     61523    Butte         Palermo Union Elementary   \n",
       "\n",
       "  gr_span  enrl_tot   teachers   calw_pct   meal_pct  computer  ...  \\\n",
       "0   KK-08       195  10.900000   0.510200   2.040800        67  ...   \n",
       "1   KK-08       240  11.150000  15.416700  47.916698       101  ...   \n",
       "2   KK-08      1550  82.900002  55.032299  76.322601       169  ...   \n",
       "3   KK-08       243  14.000000  36.475399  77.049202        85  ...   \n",
       "4   KK-08      1335  71.500000  33.108601  78.427002       171  ...   \n",
       "\n",
       "      avginc     el_pct    read_scr    math_scr  Unnamed: 18  Unnamed: 19  \\\n",
       "0  22.690001   0.000000  691.599976  690.000000          NaN          NaN   \n",
       "1   9.824000   4.583333  660.500000  661.900024          NaN          NaN   \n",
       "2   8.978000  30.000002  636.299988  650.900024          NaN          NaN   \n",
       "3   8.978000   0.000000  651.900024  643.500000          NaN          NaN   \n",
       "4   9.080333  13.857677  641.799988  639.900024          NaN          NaN   \n",
       "\n",
       "   Unnamed: 20  Unnamed: 21  Unnamed: 22  Unnamed: 23  \n",
       "0          NaN          NaN          NaN          NaN  \n",
       "1          NaN          NaN          NaN          NaN  \n",
       "2          NaN          NaN          NaN          NaN  \n",
       "3          NaN          NaN          NaN          NaN  \n",
       "4          NaN          NaN          NaN          NaN  \n",
       "\n",
       "[5 rows x 24 columns]"
      ]
     },
     "execution_count": 4,
     "metadata": {},
     "output_type": "execute_result"
    }
   ],
   "source": [
    "data.head(5)\n",
    "#data.shape"
   ]
  },
  {
   "cell_type": "code",
   "execution_count": 5,
   "id": "spread-difficulty",
   "metadata": {},
   "outputs": [],
   "source": [
    "state=490172878+490161470+490155963 # replace this number with the sum of the student IDs for the members of the group\n",
    "\n",
    "train = data.sample(frac=0.8, random_state=state)\n",
    "test = data[data.index.isin(train.index)==False].copy() # Only for prediction\n",
    "\n",
    "train=train.reset_index(drop=True)\n",
    "test=test.reset_index(drop=True)"
   ]
  },
  {
   "cell_type": "code",
   "execution_count": 6,
   "id": "refined-difficulty",
   "metadata": {},
   "outputs": [
    {
     "data": {
      "text/html": [
       "<div>\n",
       "<style scoped>\n",
       "    .dataframe tbody tr th:only-of-type {\n",
       "        vertical-align: middle;\n",
       "    }\n",
       "\n",
       "    .dataframe tbody tr th {\n",
       "        vertical-align: top;\n",
       "    }\n",
       "\n",
       "    .dataframe thead th {\n",
       "        text-align: right;\n",
       "    }\n",
       "</style>\n",
       "<table border=\"1\" class=\"dataframe\">\n",
       "  <thead>\n",
       "    <tr style=\"text-align: right;\">\n",
       "      <th></th>\n",
       "      <th>Observation Number</th>\n",
       "      <th>dist_cod</th>\n",
       "      <th>county</th>\n",
       "      <th>district</th>\n",
       "      <th>gr_span</th>\n",
       "      <th>enrl_tot</th>\n",
       "      <th>teachers</th>\n",
       "      <th>calw_pct</th>\n",
       "      <th>meal_pct</th>\n",
       "      <th>computer</th>\n",
       "      <th>...</th>\n",
       "      <th>avginc</th>\n",
       "      <th>el_pct</th>\n",
       "      <th>read_scr</th>\n",
       "      <th>math_scr</th>\n",
       "      <th>Unnamed: 18</th>\n",
       "      <th>Unnamed: 19</th>\n",
       "      <th>Unnamed: 20</th>\n",
       "      <th>Unnamed: 21</th>\n",
       "      <th>Unnamed: 22</th>\n",
       "      <th>Unnamed: 23</th>\n",
       "    </tr>\n",
       "  </thead>\n",
       "  <tbody>\n",
       "    <tr>\n",
       "      <th>0</th>\n",
       "      <td>3</td>\n",
       "      <td>61549</td>\n",
       "      <td>Butte</td>\n",
       "      <td>Thermalito Union Elementary</td>\n",
       "      <td>KK-08</td>\n",
       "      <td>1550</td>\n",
       "      <td>82.900002</td>\n",
       "      <td>55.032299</td>\n",
       "      <td>76.322601</td>\n",
       "      <td>169</td>\n",
       "      <td>...</td>\n",
       "      <td>8.978000</td>\n",
       "      <td>30.000002</td>\n",
       "      <td>636.299988</td>\n",
       "      <td>650.900024</td>\n",
       "      <td>NaN</td>\n",
       "      <td>NaN</td>\n",
       "      <td>NaN</td>\n",
       "      <td>NaN</td>\n",
       "      <td>NaN</td>\n",
       "      <td>NaN</td>\n",
       "    </tr>\n",
       "    <tr>\n",
       "      <th>1</th>\n",
       "      <td>10</td>\n",
       "      <td>67306</td>\n",
       "      <td>Sacramento</td>\n",
       "      <td>Del Paso Heights Elementary</td>\n",
       "      <td>KK-06</td>\n",
       "      <td>2247</td>\n",
       "      <td>108.000000</td>\n",
       "      <td>78.994202</td>\n",
       "      <td>87.316399</td>\n",
       "      <td>0</td>\n",
       "      <td>...</td>\n",
       "      <td>11.613333</td>\n",
       "      <td>40.275921</td>\n",
       "      <td>611.900024</td>\n",
       "      <td>613.400024</td>\n",
       "      <td>NaN</td>\n",
       "      <td>NaN</td>\n",
       "      <td>NaN</td>\n",
       "      <td>NaN</td>\n",
       "      <td>NaN</td>\n",
       "      <td>NaN</td>\n",
       "    </tr>\n",
       "    <tr>\n",
       "      <th>2</th>\n",
       "      <td>16</td>\n",
       "      <td>72041</td>\n",
       "      <td>Tulare</td>\n",
       "      <td>Pixley Union Elementary</td>\n",
       "      <td>KK-08</td>\n",
       "      <td>852</td>\n",
       "      <td>42.070000</td>\n",
       "      <td>24.214199</td>\n",
       "      <td>94.295700</td>\n",
       "      <td>80</td>\n",
       "      <td>...</td>\n",
       "      <td>7.454000</td>\n",
       "      <td>49.413143</td>\n",
       "      <td>614.799988</td>\n",
       "      <td>619.900024</td>\n",
       "      <td>NaN</td>\n",
       "      <td>NaN</td>\n",
       "      <td>NaN</td>\n",
       "      <td>NaN</td>\n",
       "      <td>NaN</td>\n",
       "      <td>NaN</td>\n",
       "    </tr>\n",
       "  </tbody>\n",
       "</table>\n",
       "<p>3 rows × 24 columns</p>\n",
       "</div>"
      ],
      "text/plain": [
       "   Observation Number  dist_cod      county                     district  \\\n",
       "0                   3     61549       Butte  Thermalito Union Elementary   \n",
       "1                  10     67306  Sacramento  Del Paso Heights Elementary   \n",
       "2                  16     72041      Tulare      Pixley Union Elementary   \n",
       "\n",
       "  gr_span  enrl_tot    teachers   calw_pct   meal_pct  computer  ...  \\\n",
       "0   KK-08      1550   82.900002  55.032299  76.322601       169  ...   \n",
       "1   KK-06      2247  108.000000  78.994202  87.316399         0  ...   \n",
       "2   KK-08       852   42.070000  24.214199  94.295700        80  ...   \n",
       "\n",
       "      avginc     el_pct    read_scr    math_scr  Unnamed: 18  Unnamed: 19  \\\n",
       "0   8.978000  30.000002  636.299988  650.900024          NaN          NaN   \n",
       "1  11.613333  40.275921  611.900024  613.400024          NaN          NaN   \n",
       "2   7.454000  49.413143  614.799988  619.900024          NaN          NaN   \n",
       "\n",
       "   Unnamed: 20  Unnamed: 21  Unnamed: 22  Unnamed: 23  \n",
       "0          NaN          NaN          NaN          NaN  \n",
       "1          NaN          NaN          NaN          NaN  \n",
       "2          NaN          NaN          NaN          NaN  \n",
       "\n",
       "[3 rows x 24 columns]"
      ]
     },
     "execution_count": 6,
     "metadata": {},
     "output_type": "execute_result"
    }
   ],
   "source": [
    "test.head(3)"
   ]
  },
  {
   "cell_type": "code",
   "execution_count": 7,
   "id": "communist-kennedy",
   "metadata": {
    "scrolled": false
   },
   "outputs": [
    {
     "data": {
      "text/html": [
       "<div>\n",
       "<style scoped>\n",
       "    .dataframe tbody tr th:only-of-type {\n",
       "        vertical-align: middle;\n",
       "    }\n",
       "\n",
       "    .dataframe tbody tr th {\n",
       "        vertical-align: top;\n",
       "    }\n",
       "\n",
       "    .dataframe thead th {\n",
       "        text-align: right;\n",
       "    }\n",
       "</style>\n",
       "<table border=\"1\" class=\"dataframe\">\n",
       "  <thead>\n",
       "    <tr style=\"text-align: right;\">\n",
       "      <th></th>\n",
       "      <th>count</th>\n",
       "      <th>mean</th>\n",
       "      <th>std</th>\n",
       "      <th>min</th>\n",
       "      <th>25%</th>\n",
       "      <th>50%</th>\n",
       "      <th>75%</th>\n",
       "      <th>max</th>\n",
       "    </tr>\n",
       "  </thead>\n",
       "  <tbody>\n",
       "    <tr>\n",
       "      <th>Observation Number</th>\n",
       "      <td>336.0</td>\n",
       "      <td>210.160714</td>\n",
       "      <td>119.693456</td>\n",
       "      <td>1.000000</td>\n",
       "      <td>110.750000</td>\n",
       "      <td>207.500000</td>\n",
       "      <td>313.250000</td>\n",
       "      <td>419.000000</td>\n",
       "    </tr>\n",
       "    <tr>\n",
       "      <th>dist_cod</th>\n",
       "      <td>336.0</td>\n",
       "      <td>67409.666667</td>\n",
       "      <td>3521.473582</td>\n",
       "      <td>61457.000000</td>\n",
       "      <td>64059.250000</td>\n",
       "      <td>67570.000000</td>\n",
       "      <td>70488.500000</td>\n",
       "      <td>75440.000000</td>\n",
       "    </tr>\n",
       "    <tr>\n",
       "      <th>enrl_tot</th>\n",
       "      <td>336.0</td>\n",
       "      <td>2776.741071</td>\n",
       "      <td>4044.710932</td>\n",
       "      <td>81.000000</td>\n",
       "      <td>381.250000</td>\n",
       "      <td>909.500000</td>\n",
       "      <td>3481.250000</td>\n",
       "      <td>27176.000000</td>\n",
       "    </tr>\n",
       "    <tr>\n",
       "      <th>teachers</th>\n",
       "      <td>336.0</td>\n",
       "      <td>136.352347</td>\n",
       "      <td>194.969439</td>\n",
       "      <td>4.850000</td>\n",
       "      <td>19.599999</td>\n",
       "      <td>46.985001</td>\n",
       "      <td>173.079998</td>\n",
       "      <td>1429.000000</td>\n",
       "    </tr>\n",
       "    <tr>\n",
       "      <th>calw_pct</th>\n",
       "      <td>336.0</td>\n",
       "      <td>13.319474</td>\n",
       "      <td>11.006004</td>\n",
       "      <td>0.000000</td>\n",
       "      <td>4.662050</td>\n",
       "      <td>10.693850</td>\n",
       "      <td>19.213575</td>\n",
       "      <td>71.713097</td>\n",
       "    </tr>\n",
       "    <tr>\n",
       "      <th>meal_pct</th>\n",
       "      <td>336.0</td>\n",
       "      <td>45.409745</td>\n",
       "      <td>26.795360</td>\n",
       "      <td>0.000000</td>\n",
       "      <td>23.591725</td>\n",
       "      <td>44.578751</td>\n",
       "      <td>67.286676</td>\n",
       "      <td>100.000000</td>\n",
       "    </tr>\n",
       "    <tr>\n",
       "      <th>computer</th>\n",
       "      <td>336.0</td>\n",
       "      <td>320.836310</td>\n",
       "      <td>468.159502</td>\n",
       "      <td>0.000000</td>\n",
       "      <td>46.000000</td>\n",
       "      <td>113.500000</td>\n",
       "      <td>409.500000</td>\n",
       "      <td>3324.000000</td>\n",
       "    </tr>\n",
       "    <tr>\n",
       "      <th>testscr</th>\n",
       "      <td>336.0</td>\n",
       "      <td>654.151636</td>\n",
       "      <td>18.748142</td>\n",
       "      <td>605.550049</td>\n",
       "      <td>640.887512</td>\n",
       "      <td>654.149963</td>\n",
       "      <td>666.650024</td>\n",
       "      <td>706.750000</td>\n",
       "    </tr>\n",
       "    <tr>\n",
       "      <th>comp_stu</th>\n",
       "      <td>336.0</td>\n",
       "      <td>0.135608</td>\n",
       "      <td>0.063734</td>\n",
       "      <td>0.000000</td>\n",
       "      <td>0.095679</td>\n",
       "      <td>0.126123</td>\n",
       "      <td>0.161314</td>\n",
       "      <td>0.420833</td>\n",
       "    </tr>\n",
       "    <tr>\n",
       "      <th>expn_stu</th>\n",
       "      <td>336.0</td>\n",
       "      <td>5292.958673</td>\n",
       "      <td>629.413551</td>\n",
       "      <td>3926.069580</td>\n",
       "      <td>4896.660767</td>\n",
       "      <td>5203.101562</td>\n",
       "      <td>5595.549194</td>\n",
       "      <td>7711.506836</td>\n",
       "    </tr>\n",
       "    <tr>\n",
       "      <th>str</th>\n",
       "      <td>336.0</td>\n",
       "      <td>19.680221</td>\n",
       "      <td>1.900381</td>\n",
       "      <td>14.000000</td>\n",
       "      <td>18.630548</td>\n",
       "      <td>19.752111</td>\n",
       "      <td>20.892043</td>\n",
       "      <td>25.799999</td>\n",
       "    </tr>\n",
       "    <tr>\n",
       "      <th>avginc</th>\n",
       "      <td>336.0</td>\n",
       "      <td>15.078460</td>\n",
       "      <td>6.992203</td>\n",
       "      <td>5.335000</td>\n",
       "      <td>10.591020</td>\n",
       "      <td>13.608000</td>\n",
       "      <td>17.453400</td>\n",
       "      <td>55.327999</td>\n",
       "    </tr>\n",
       "    <tr>\n",
       "      <th>el_pct</th>\n",
       "      <td>336.0</td>\n",
       "      <td>16.080359</td>\n",
       "      <td>18.724276</td>\n",
       "      <td>0.000000</td>\n",
       "      <td>1.935184</td>\n",
       "      <td>8.851380</td>\n",
       "      <td>22.970003</td>\n",
       "      <td>85.539719</td>\n",
       "    </tr>\n",
       "    <tr>\n",
       "      <th>read_scr</th>\n",
       "      <td>336.0</td>\n",
       "      <td>654.838988</td>\n",
       "      <td>19.853882</td>\n",
       "      <td>604.500000</td>\n",
       "      <td>641.275024</td>\n",
       "      <td>655.400024</td>\n",
       "      <td>668.725006</td>\n",
       "      <td>704.000000</td>\n",
       "    </tr>\n",
       "    <tr>\n",
       "      <th>math_scr</th>\n",
       "      <td>336.0</td>\n",
       "      <td>653.464285</td>\n",
       "      <td>18.387314</td>\n",
       "      <td>605.400024</td>\n",
       "      <td>639.900024</td>\n",
       "      <td>652.349976</td>\n",
       "      <td>665.799988</td>\n",
       "      <td>709.500000</td>\n",
       "    </tr>\n",
       "    <tr>\n",
       "      <th>Unnamed: 18</th>\n",
       "      <td>0.0</td>\n",
       "      <td>NaN</td>\n",
       "      <td>NaN</td>\n",
       "      <td>NaN</td>\n",
       "      <td>NaN</td>\n",
       "      <td>NaN</td>\n",
       "      <td>NaN</td>\n",
       "      <td>NaN</td>\n",
       "    </tr>\n",
       "    <tr>\n",
       "      <th>Unnamed: 19</th>\n",
       "      <td>0.0</td>\n",
       "      <td>NaN</td>\n",
       "      <td>NaN</td>\n",
       "      <td>NaN</td>\n",
       "      <td>NaN</td>\n",
       "      <td>NaN</td>\n",
       "      <td>NaN</td>\n",
       "      <td>NaN</td>\n",
       "    </tr>\n",
       "    <tr>\n",
       "      <th>Unnamed: 20</th>\n",
       "      <td>0.0</td>\n",
       "      <td>NaN</td>\n",
       "      <td>NaN</td>\n",
       "      <td>NaN</td>\n",
       "      <td>NaN</td>\n",
       "      <td>NaN</td>\n",
       "      <td>NaN</td>\n",
       "      <td>NaN</td>\n",
       "    </tr>\n",
       "    <tr>\n",
       "      <th>Unnamed: 21</th>\n",
       "      <td>0.0</td>\n",
       "      <td>NaN</td>\n",
       "      <td>NaN</td>\n",
       "      <td>NaN</td>\n",
       "      <td>NaN</td>\n",
       "      <td>NaN</td>\n",
       "      <td>NaN</td>\n",
       "      <td>NaN</td>\n",
       "    </tr>\n",
       "    <tr>\n",
       "      <th>Unnamed: 22</th>\n",
       "      <td>0.0</td>\n",
       "      <td>NaN</td>\n",
       "      <td>NaN</td>\n",
       "      <td>NaN</td>\n",
       "      <td>NaN</td>\n",
       "      <td>NaN</td>\n",
       "      <td>NaN</td>\n",
       "      <td>NaN</td>\n",
       "    </tr>\n",
       "    <tr>\n",
       "      <th>Unnamed: 23</th>\n",
       "      <td>0.0</td>\n",
       "      <td>NaN</td>\n",
       "      <td>NaN</td>\n",
       "      <td>NaN</td>\n",
       "      <td>NaN</td>\n",
       "      <td>NaN</td>\n",
       "      <td>NaN</td>\n",
       "      <td>NaN</td>\n",
       "    </tr>\n",
       "  </tbody>\n",
       "</table>\n",
       "</div>"
      ],
      "text/plain": [
       "                    count          mean          std           min  \\\n",
       "Observation Number  336.0    210.160714   119.693456      1.000000   \n",
       "dist_cod            336.0  67409.666667  3521.473582  61457.000000   \n",
       "enrl_tot            336.0   2776.741071  4044.710932     81.000000   \n",
       "teachers            336.0    136.352347   194.969439      4.850000   \n",
       "calw_pct            336.0     13.319474    11.006004      0.000000   \n",
       "meal_pct            336.0     45.409745    26.795360      0.000000   \n",
       "computer            336.0    320.836310   468.159502      0.000000   \n",
       "testscr             336.0    654.151636    18.748142    605.550049   \n",
       "comp_stu            336.0      0.135608     0.063734      0.000000   \n",
       "expn_stu            336.0   5292.958673   629.413551   3926.069580   \n",
       "str                 336.0     19.680221     1.900381     14.000000   \n",
       "avginc              336.0     15.078460     6.992203      5.335000   \n",
       "el_pct              336.0     16.080359    18.724276      0.000000   \n",
       "read_scr            336.0    654.838988    19.853882    604.500000   \n",
       "math_scr            336.0    653.464285    18.387314    605.400024   \n",
       "Unnamed: 18           0.0           NaN          NaN           NaN   \n",
       "Unnamed: 19           0.0           NaN          NaN           NaN   \n",
       "Unnamed: 20           0.0           NaN          NaN           NaN   \n",
       "Unnamed: 21           0.0           NaN          NaN           NaN   \n",
       "Unnamed: 22           0.0           NaN          NaN           NaN   \n",
       "Unnamed: 23           0.0           NaN          NaN           NaN   \n",
       "\n",
       "                             25%           50%           75%           max  \n",
       "Observation Number    110.750000    207.500000    313.250000    419.000000  \n",
       "dist_cod            64059.250000  67570.000000  70488.500000  75440.000000  \n",
       "enrl_tot              381.250000    909.500000   3481.250000  27176.000000  \n",
       "teachers               19.599999     46.985001    173.079998   1429.000000  \n",
       "calw_pct                4.662050     10.693850     19.213575     71.713097  \n",
       "meal_pct               23.591725     44.578751     67.286676    100.000000  \n",
       "computer               46.000000    113.500000    409.500000   3324.000000  \n",
       "testscr               640.887512    654.149963    666.650024    706.750000  \n",
       "comp_stu                0.095679      0.126123      0.161314      0.420833  \n",
       "expn_stu             4896.660767   5203.101562   5595.549194   7711.506836  \n",
       "str                    18.630548     19.752111     20.892043     25.799999  \n",
       "avginc                 10.591020     13.608000     17.453400     55.327999  \n",
       "el_pct                  1.935184      8.851380     22.970003     85.539719  \n",
       "read_scr              641.275024    655.400024    668.725006    704.000000  \n",
       "math_scr              639.900024    652.349976    665.799988    709.500000  \n",
       "Unnamed: 18                  NaN           NaN           NaN           NaN  \n",
       "Unnamed: 19                  NaN           NaN           NaN           NaN  \n",
       "Unnamed: 20                  NaN           NaN           NaN           NaN  \n",
       "Unnamed: 21                  NaN           NaN           NaN           NaN  \n",
       "Unnamed: 22                  NaN           NaN           NaN           NaN  \n",
       "Unnamed: 23                  NaN           NaN           NaN           NaN  "
      ]
     },
     "execution_count": 7,
     "metadata": {},
     "output_type": "execute_result"
    }
   ],
   "source": [
    "train.describe().T"
   ]
  },
  {
   "cell_type": "code",
   "execution_count": 8,
   "id": "answering-bailey",
   "metadata": {},
   "outputs": [],
   "source": [
    "#data transformation\n",
    "#dependent/response variable\n",
    "#box-cox\n",
    "y,lmbda=stats.boxcox(train['testscr'])\n",
    "train['BoxCoxtest']=((train['testscr']**lmbda-1)/lmbda)\n",
    "#log\n",
    "train['log_testscr']=np.log(train['testscr'])\n",
    "train['log_calw_pct']=np.log(train['calw_pct'])\n",
    "train['log_comput_stu']=np.log(train['comput_stu'])\n",
    "train['log_expn_stu']=np.log(train['expn_stu'])\n",
    "train['log_avginc']=np.log(train['avginc'])\n",
    "eliminate nan\n",
    "train=train[train['log_testscr']>=0]\n",
    "train=train[train['BoxCoxtest']>=0]"
   ]
  },
  {
   "cell_type": "code",
   "execution_count": 9,
   "id": "emerging-hampton",
   "metadata": {},
   "outputs": [
    {
     "data": {
      "image/png": "[encoded data removed]",
      "text/plain": [
       "<Figure size 432x288 with 1 Axes>"
      ]
     },
     "metadata": {},
     "output_type": "display_data"
    }
   ],
   "source": [
    "import seaborn as sns\n",
    "import matplotlib.pyplot as plt\n",
    "# set a grey background (use sns.set_theme() if seaborn version 0.11.0 or above) \n",
    "sns.set(style=\"darkgrid\")\n",
    "sns.histplot(data=train, x=\"testscr\", color=\"skyblue\", label=\"test score\", kde=True)\n",
    "plt.show()\n",
    "#it does not seem to need a transformation for response variable, but we can explore"
   ]
  },
  {
   "cell_type": "code",
   "execution_count": 10,
   "id": "union-abortion",
   "metadata": {},
   "outputs": [
    {
     "data": {
      "image/png": "[encoded data removed]",
      "text/plain": [
       "<Figure size 432x288 with 1 Axes>"
      ]
     },
     "metadata": {},
     "output_type": "display_data"
    }
   ],
   "source": [
    "sns.histplot(data=train, x=\"log_testscr\", color=\"skyblue\", label=\"log test score\", kde=True)\n",
    "plt.show()"
   ]
  },
  {
   "cell_type": "code",
   "execution_count": 11,
   "id": "progressive-japanese",
   "metadata": {},
   "outputs": [
    {
     "data": {
      "image/png": "[encoded data removed]",
      "text/plain": [
       "<Figure size 432x288 with 1 Axes>"
      ]
     },
     "metadata": {},
     "output_type": "display_data"
    }
   ],
   "source": [
    "sns.histplot(data=train, x=\"BoxCoxtest\", color=\"skyblue\", label=\"BoxCox test score\", kde=True)\n",
    "plt.show()"
   ]
  },
  {
   "cell_type": "code",
   "execution_count": 12,
   "id": "after-scenario",
   "metadata": {},
   "outputs": [
    {
     "data": {
      "image/png": "[encoded data removed]",
      "text/plain": [
       "<Figure size 432x288 with 1 Axes>"
      ]
     },
     "metadata": {},
     "output_type": "display_data"
    }
   ],
   "source": [
    "sns.histplot(data=train, x=\"str\", color=\"skyblue\", label=\"student teacher ratio\", kde=True)\n",
    "plt.show()"
   ]
  },
  {
   "cell_type": "code",
   "execution_count": 13,
   "id": "interim-silver",
   "metadata": {},
   "outputs": [],
   "source": [
    "train['log_str']=np.log(train['str'])\n",
    "train=train[train['log_str']>=0]"
   ]
  },
  {
   "cell_type": "code",
   "execution_count": 14,
   "id": "broke-disability",
   "metadata": {},
   "outputs": [
    {
     "data": {
      "image/png": "[encoded data removed]",
      "text/plain": [
       "<Figure size 432x288 with 1 Axes>"
      ]
     },
     "metadata": {},
     "output_type": "display_data"
    }
   ],
   "source": [
    "sns.histplot(data=train, x=\"log_str\", color=\"skyblue\", label=\"log student teacher ratio\", kde=True)\n",
    "plt.show()"
   ]
  },
  {
   "cell_type": "code",
   "execution_count": 15,
   "id": "running-undergraduate",
   "metadata": {},
   "outputs": [
    {
     "data": {
      "image/png": "[encoded data removed]",
      "text/plain": [
       "<Figure size 432x288 with 1 Axes>"
      ]
     },
     "metadata": {},
     "output_type": "display_data"
    }
   ],
   "source": [
    "sns.histplot(data=train, x=\"calw_pct\", color=\"skyblue\", label=\"percent quality for CalWORKS\", kde=True)\n",
    "train[np.isfinite(train['log_cal'])]\n",
    "plt.hist(train[np.isfinite(train['log_cal'])].values)\n",
    "plt.hist(train['log_cal'].dropna().values)\n",
    "sns.histplot(data=train, x=\"log_cal\", color=\"skyblue\", label=\"log percent quality for CalWORKS\", kde=True)\n",
    "plt.show()"
   ]
  },
  {
   "cell_type": "code",
   "execution_count": 16,
   "id": "severe-bachelor",
   "metadata": {},
   "outputs": [],
   "source": [
    "train['log_cal']=np.log(train['calw_pct'])\n",
    "#train=train[train['log_cal']>=0]"
   ]
  },
  {
   "cell_type": "code",
   "execution_count": 17,
   "id": "confident-luxembourg",
   "metadata": {},
   "outputs": [],
   "source": [
    "#sns.histplot(data=train, x=\"log_cal\", color=\"skyblue\", label=\"log percent quality for CalWORKS\", kde=True)\n",
    "#plt.show()"
   ]
  },
  {
   "cell_type": "code",
   "execution_count": 18,
   "id": "congressional-procedure",
   "metadata": {},
   "outputs": [
    {
     "data": {
      "image/png": "[encoded data removed]",
      "text/plain": [
       "<Figure size 432x288 with 1 Axes>"
      ]
     },
     "metadata": {},
     "output_type": "display_data"
    }
   ],
   "source": [
    "sns.histplot(data=train, x=\"meal_pct\", color=\"skyblue\", label=\"percent quality for reduced price lunch\", kde=True)\n",
    "#sns.histplot(data=train, x=\"log_meal\", color=\"skyblue\", label=\"log percent quality for reduced price lunch\", kde=True)\n",
    "plt.show()"
   ]
  },
  {
   "cell_type": "code",
   "execution_count": 19,
   "id": "looking-afternoon",
   "metadata": {},
   "outputs": [],
   "source": [
    "train['log_meal']=np.log(train['meal_pct'])\n",
    "#train=train[train['log_meal']>=0]"
   ]
  },
  {
   "cell_type": "code",
   "execution_count": 20,
   "id": "collectible-humanity",
   "metadata": {},
   "outputs": [],
   "source": [
    "#sns.histplot(data=train, x=\"log_meal\", color=\"skyblue\", label=\"log percent quality for reduced price lunch\", kde=True)\n",
    "#plt.show()"
   ]
  },
  {
   "cell_type": "code",
   "execution_count": 21,
   "id": "becoming-possibility",
   "metadata": {},
   "outputs": [
    {
     "data": {
      "image/png": "[encoded data removed]",
      "text/plain": [
       "<Figure size 432x288 with 1 Axes>"
      ]
     },
     "metadata": {},
     "output_type": "display_data"
    }
   ],
   "source": [
    "sns.histplot(data=train, x=\"computer\", color=\"skyblue\", label=\"number of computers\", kde=True)\n",
    "#sns.histplot(data=train, x=\"log_comp\", color=\"skyblue\", label=\"log of number of computers\", kde=True)\n",
    "plt.show()"
   ]
  },
  {
   "cell_type": "code",
   "execution_count": 22,
   "id": "outdoor-climate",
   "metadata": {},
   "outputs": [],
   "source": [
    "train['log_comp']=np.log(train['computer'])\n",
    "#train=train[train['log_comp']>=0]"
   ]
  },
  {
   "cell_type": "code",
   "execution_count": 23,
   "id": "religious-harrison",
   "metadata": {},
   "outputs": [],
   "source": [
    "# sns.histplot(data=train, x=\"log_comp\", color=\"skyblue\", label=\"log of number of computers\", kde=True)\n",
    "# plt.show()"
   ]
  },
  {
   "cell_type": "code",
   "execution_count": 24,
   "id": "wooden-serve",
   "metadata": {},
   "outputs": [
    {
     "data": {
      "image/png": "[encoded data removed]",
      "text/plain": [
       "<Figure size 432x288 with 1 Axes>"
      ]
     },
     "metadata": {},
     "output_type": "display_data"
    }
   ],
   "source": [
    "sns.histplot(data=train, x=\"comp_stu\", color=\"skyblue\", label=\"computer per student\", kde=True)\n",
    "plt.show()"
   ]
  },
  {
   "cell_type": "code",
   "execution_count": 25,
   "id": "streaming-implementation",
   "metadata": {},
   "outputs": [],
   "source": [
    "train['log_comstu']=np.log(train['comp_stu'])\n",
    "#train=train[train['log_comstu']>=0]"
   ]
  },
  {
   "cell_type": "code",
   "execution_count": 26,
   "id": "finished-vanilla",
   "metadata": {},
   "outputs": [],
   "source": [
    "# sns.histplot(data=train, x=\"log_comstu\", color=\"skyblue\", label=\"log computer per student\", kde=True)\n",
    "# plt.show()"
   ]
  },
  {
   "cell_type": "code",
   "execution_count": 27,
   "id": "identical-mining",
   "metadata": {},
   "outputs": [
    {
     "data": {
      "image/png": "[encoded data removed]",
      "text/plain": [
       "<Figure size 432x288 with 1 Axes>"
      ]
     },
     "metadata": {},
     "output_type": "display_data"
    }
   ],
   "source": [
    "sns.histplot(data=train, x=\"expn_stu\", color=\"skyblue\", label=\"expenditure per student\", kde=True)\n",
    "plt.show()"
   ]
  },
  {
   "cell_type": "code",
   "execution_count": 28,
   "id": "radio-antarctica",
   "metadata": {},
   "outputs": [],
   "source": [
    "train['log_exp']=np.log(train['expn_stu'])"
   ]
  },
  {
   "cell_type": "code",
   "execution_count": 29,
   "id": "perfect-passenger",
   "metadata": {},
   "outputs": [
    {
     "data": {
      "image/png": "[encoded data removed]",
      "text/plain": [
       "<Figure size 432x288 with 1 Axes>"
      ]
     },
     "metadata": {},
     "output_type": "display_data"
    }
   ],
   "source": [
    "sns.histplot(data=train, x=\"log_exp\", color=\"skyblue\", label=\"log expenditure per student\", kde=True)\n",
    "plt.show()"
   ]
  },
  {
   "cell_type": "code",
   "execution_count": 30,
   "id": "tight-contemporary",
   "metadata": {},
   "outputs": [
    {
     "data": {
      "image/png": "[encoded data removed]",
      "text/plain": [
       "<Figure size 432x288 with 1 Axes>"
      ]
     },
     "metadata": {},
     "output_type": "display_data"
    }
   ],
   "source": [
    "sns.histplot(data=train, x=\"avginc\", color=\"skyblue\", label=\"district average income\", kde=True)\n",
    "plt.show()"
   ]
  },
  {
   "cell_type": "code",
   "execution_count": 31,
   "id": "cross-proposal",
   "metadata": {},
   "outputs": [],
   "source": [
    "train['log_avg']=np.log(train['avginc'])"
   ]
  },
  {
   "cell_type": "code",
   "execution_count": 32,
   "id": "together-virtue",
   "metadata": {},
   "outputs": [
    {
     "data": {
      "image/png": "[encoded data removed]",
      "text/plain": [
       "<Figure size 432x288 with 1 Axes>"
      ]
     },
     "metadata": {},
     "output_type": "display_data"
    }
   ],
   "source": [
    "sns.histplot(data=train, x=\"log_avg\", color=\"skyblue\", label=\"log district average income\", kde=True)\n",
    "plt.show()"
   ]
  },
  {
   "cell_type": "code",
   "execution_count": 33,
   "id": "skilled-veteran",
   "metadata": {},
   "outputs": [
    {
     "data": {
      "image/png": "[encoded data removed]",
      "text/plain": [
       "<Figure size 432x288 with 1 Axes>"
      ]
     },
     "metadata": {},
     "output_type": "display_data"
    }
   ],
   "source": [
    "sns.histplot(data=train, x=\"el_pct\", color=\"skyblue\", label=\"percent of English learners\", kde=True)\n",
    "plt.show()"
   ]
  },
  {
   "cell_type": "code",
   "execution_count": 34,
   "id": "charitable-container",
   "metadata": {},
   "outputs": [],
   "source": [
    "train['log_elpct']=np.log(train['el_pct'])\n",
    "#train=train[train['log_elpct']>=0]"
   ]
  },
  {
   "cell_type": "code",
   "execution_count": 35,
   "id": "guided-tumor",
   "metadata": {},
   "outputs": [],
   "source": [
    "# sns.histplot(data=train, x=\"log_elpct\", color=\"skyblue\", label=\"log percent of English learners\", kde=True)\n",
    "# plt.show()"
   ]
  },
  {
   "cell_type": "code",
   "execution_count": 36,
   "id": "negative-parish",
   "metadata": {},
   "outputs": [
    {
     "data": {
      "text/html": [
       "<div>\n",
       "<style scoped>\n",
       "    .dataframe tbody tr th:only-of-type {\n",
       "        vertical-align: middle;\n",
       "    }\n",
       "\n",
       "    .dataframe tbody tr th {\n",
       "        vertical-align: top;\n",
       "    }\n",
       "\n",
       "    .dataframe thead th {\n",
       "        text-align: right;\n",
       "    }\n",
       "</style>\n",
       "<table border=\"1\" class=\"dataframe\">\n",
       "  <thead>\n",
       "    <tr style=\"text-align: right;\">\n",
       "      <th></th>\n",
       "      <th>count</th>\n",
       "      <th>mean</th>\n",
       "      <th>std</th>\n",
       "      <th>min</th>\n",
       "      <th>25%</th>\n",
       "      <th>50%</th>\n",
       "      <th>75%</th>\n",
       "      <th>max</th>\n",
       "    </tr>\n",
       "  </thead>\n",
       "  <tbody>\n",
       "    <tr>\n",
       "      <th>Observation Number</th>\n",
       "      <td>336.0</td>\n",
       "      <td>2.101607e+02</td>\n",
       "      <td>119.693456</td>\n",
       "      <td>1.000000e+00</td>\n",
       "      <td>110.750000</td>\n",
       "      <td>207.500000</td>\n",
       "      <td>313.250000</td>\n",
       "      <td>419.000000</td>\n",
       "    </tr>\n",
       "    <tr>\n",
       "      <th>dist_cod</th>\n",
       "      <td>336.0</td>\n",
       "      <td>6.740967e+04</td>\n",
       "      <td>3521.473582</td>\n",
       "      <td>6.145700e+04</td>\n",
       "      <td>64059.250000</td>\n",
       "      <td>67570.000000</td>\n",
       "      <td>70488.500000</td>\n",
       "      <td>75440.000000</td>\n",
       "    </tr>\n",
       "    <tr>\n",
       "      <th>enrl_tot</th>\n",
       "      <td>336.0</td>\n",
       "      <td>2.776741e+03</td>\n",
       "      <td>4044.710932</td>\n",
       "      <td>8.100000e+01</td>\n",
       "      <td>381.250000</td>\n",
       "      <td>909.500000</td>\n",
       "      <td>3481.250000</td>\n",
       "      <td>27176.000000</td>\n",
       "    </tr>\n",
       "    <tr>\n",
       "      <th>teachers</th>\n",
       "      <td>336.0</td>\n",
       "      <td>1.363523e+02</td>\n",
       "      <td>194.969439</td>\n",
       "      <td>4.850000e+00</td>\n",
       "      <td>19.599999</td>\n",
       "      <td>46.985001</td>\n",
       "      <td>173.079998</td>\n",
       "      <td>1429.000000</td>\n",
       "    </tr>\n",
       "    <tr>\n",
       "      <th>calw_pct</th>\n",
       "      <td>336.0</td>\n",
       "      <td>1.331947e+01</td>\n",
       "      <td>11.006004</td>\n",
       "      <td>0.000000e+00</td>\n",
       "      <td>4.662050</td>\n",
       "      <td>10.693850</td>\n",
       "      <td>19.213575</td>\n",
       "      <td>71.713097</td>\n",
       "    </tr>\n",
       "    <tr>\n",
       "      <th>meal_pct</th>\n",
       "      <td>336.0</td>\n",
       "      <td>4.540974e+01</td>\n",
       "      <td>26.795360</td>\n",
       "      <td>0.000000e+00</td>\n",
       "      <td>23.591725</td>\n",
       "      <td>44.578751</td>\n",
       "      <td>67.286676</td>\n",
       "      <td>100.000000</td>\n",
       "    </tr>\n",
       "    <tr>\n",
       "      <th>computer</th>\n",
       "      <td>336.0</td>\n",
       "      <td>3.208363e+02</td>\n",
       "      <td>468.159502</td>\n",
       "      <td>0.000000e+00</td>\n",
       "      <td>46.000000</td>\n",
       "      <td>113.500000</td>\n",
       "      <td>409.500000</td>\n",
       "      <td>3324.000000</td>\n",
       "    </tr>\n",
       "    <tr>\n",
       "      <th>testscr</th>\n",
       "      <td>336.0</td>\n",
       "      <td>6.541516e+02</td>\n",
       "      <td>18.748142</td>\n",
       "      <td>6.055500e+02</td>\n",
       "      <td>640.887512</td>\n",
       "      <td>654.149963</td>\n",
       "      <td>666.650024</td>\n",
       "      <td>706.750000</td>\n",
       "    </tr>\n",
       "    <tr>\n",
       "      <th>comp_stu</th>\n",
       "      <td>336.0</td>\n",
       "      <td>1.356078e-01</td>\n",
       "      <td>0.063734</td>\n",
       "      <td>0.000000e+00</td>\n",
       "      <td>0.095679</td>\n",
       "      <td>0.126123</td>\n",
       "      <td>0.161314</td>\n",
       "      <td>0.420833</td>\n",
       "    </tr>\n",
       "    <tr>\n",
       "      <th>expn_stu</th>\n",
       "      <td>336.0</td>\n",
       "      <td>5.292959e+03</td>\n",
       "      <td>629.413551</td>\n",
       "      <td>3.926070e+03</td>\n",
       "      <td>4896.660767</td>\n",
       "      <td>5203.101562</td>\n",
       "      <td>5595.549194</td>\n",
       "      <td>7711.506836</td>\n",
       "    </tr>\n",
       "    <tr>\n",
       "      <th>str</th>\n",
       "      <td>336.0</td>\n",
       "      <td>1.968022e+01</td>\n",
       "      <td>1.900381</td>\n",
       "      <td>1.400000e+01</td>\n",
       "      <td>18.630548</td>\n",
       "      <td>19.752111</td>\n",
       "      <td>20.892043</td>\n",
       "      <td>25.799999</td>\n",
       "    </tr>\n",
       "    <tr>\n",
       "      <th>avginc</th>\n",
       "      <td>336.0</td>\n",
       "      <td>1.507846e+01</td>\n",
       "      <td>6.992203</td>\n",
       "      <td>5.335000e+00</td>\n",
       "      <td>10.591020</td>\n",
       "      <td>13.608000</td>\n",
       "      <td>17.453400</td>\n",
       "      <td>55.327999</td>\n",
       "    </tr>\n",
       "    <tr>\n",
       "      <th>el_pct</th>\n",
       "      <td>336.0</td>\n",
       "      <td>1.608036e+01</td>\n",
       "      <td>18.724276</td>\n",
       "      <td>0.000000e+00</td>\n",
       "      <td>1.935184</td>\n",
       "      <td>8.851380</td>\n",
       "      <td>22.970003</td>\n",
       "      <td>85.539719</td>\n",
       "    </tr>\n",
       "    <tr>\n",
       "      <th>read_scr</th>\n",
       "      <td>336.0</td>\n",
       "      <td>6.548390e+02</td>\n",
       "      <td>19.853882</td>\n",
       "      <td>6.045000e+02</td>\n",
       "      <td>641.275024</td>\n",
       "      <td>655.400024</td>\n",
       "      <td>668.725006</td>\n",
       "      <td>704.000000</td>\n",
       "    </tr>\n",
       "    <tr>\n",
       "      <th>math_scr</th>\n",
       "      <td>336.0</td>\n",
       "      <td>6.534643e+02</td>\n",
       "      <td>18.387314</td>\n",
       "      <td>6.054000e+02</td>\n",
       "      <td>639.900024</td>\n",
       "      <td>652.349976</td>\n",
       "      <td>665.799988</td>\n",
       "      <td>709.500000</td>\n",
       "    </tr>\n",
       "    <tr>\n",
       "      <th>Unnamed: 18</th>\n",
       "      <td>0.0</td>\n",
       "      <td>NaN</td>\n",
       "      <td>NaN</td>\n",
       "      <td>NaN</td>\n",
       "      <td>NaN</td>\n",
       "      <td>NaN</td>\n",
       "      <td>NaN</td>\n",
       "      <td>NaN</td>\n",
       "    </tr>\n",
       "    <tr>\n",
       "      <th>Unnamed: 19</th>\n",
       "      <td>0.0</td>\n",
       "      <td>NaN</td>\n",
       "      <td>NaN</td>\n",
       "      <td>NaN</td>\n",
       "      <td>NaN</td>\n",
       "      <td>NaN</td>\n",
       "      <td>NaN</td>\n",
       "      <td>NaN</td>\n",
       "    </tr>\n",
       "    <tr>\n",
       "      <th>Unnamed: 20</th>\n",
       "      <td>0.0</td>\n",
       "      <td>NaN</td>\n",
       "      <td>NaN</td>\n",
       "      <td>NaN</td>\n",
       "      <td>NaN</td>\n",
       "      <td>NaN</td>\n",
       "      <td>NaN</td>\n",
       "      <td>NaN</td>\n",
       "    </tr>\n",
       "    <tr>\n",
       "      <th>Unnamed: 21</th>\n",
       "      <td>0.0</td>\n",
       "      <td>NaN</td>\n",
       "      <td>NaN</td>\n",
       "      <td>NaN</td>\n",
       "      <td>NaN</td>\n",
       "      <td>NaN</td>\n",
       "      <td>NaN</td>\n",
       "      <td>NaN</td>\n",
       "    </tr>\n",
       "    <tr>\n",
       "      <th>Unnamed: 22</th>\n",
       "      <td>0.0</td>\n",
       "      <td>NaN</td>\n",
       "      <td>NaN</td>\n",
       "      <td>NaN</td>\n",
       "      <td>NaN</td>\n",
       "      <td>NaN</td>\n",
       "      <td>NaN</td>\n",
       "      <td>NaN</td>\n",
       "    </tr>\n",
       "    <tr>\n",
       "      <th>Unnamed: 23</th>\n",
       "      <td>0.0</td>\n",
       "      <td>NaN</td>\n",
       "      <td>NaN</td>\n",
       "      <td>NaN</td>\n",
       "      <td>NaN</td>\n",
       "      <td>NaN</td>\n",
       "      <td>NaN</td>\n",
       "      <td>NaN</td>\n",
       "    </tr>\n",
       "    <tr>\n",
       "      <th>BoxCoxtest</th>\n",
       "      <td>336.0</td>\n",
       "      <td>1.564844e+01</td>\n",
       "      <td>0.136783</td>\n",
       "      <td>1.528488e+01</td>\n",
       "      <td>15.552396</td>\n",
       "      <td>15.649912</td>\n",
       "      <td>15.740457</td>\n",
       "      <td>16.022490</td>\n",
       "    </tr>\n",
       "    <tr>\n",
       "      <th>log_testscr</th>\n",
       "      <td>336.0</td>\n",
       "      <td>6.482930e+00</td>\n",
       "      <td>0.028664</td>\n",
       "      <td>6.406137e+00</td>\n",
       "      <td>6.462854</td>\n",
       "      <td>6.483337</td>\n",
       "      <td>6.502265</td>\n",
       "      <td>6.560677</td>\n",
       "    </tr>\n",
       "    <tr>\n",
       "      <th>log_str</th>\n",
       "      <td>336.0</td>\n",
       "      <td>2.974908e+00</td>\n",
       "      <td>0.097615</td>\n",
       "      <td>2.639057e+00</td>\n",
       "      <td>2.924802</td>\n",
       "      <td>2.983260</td>\n",
       "      <td>3.039368</td>\n",
       "      <td>3.250374</td>\n",
       "    </tr>\n",
       "    <tr>\n",
       "      <th>log_cal</th>\n",
       "      <td>336.0</td>\n",
       "      <td>-inf</td>\n",
       "      <td>NaN</td>\n",
       "      <td>-inf</td>\n",
       "      <td>1.539455</td>\n",
       "      <td>2.369669</td>\n",
       "      <td>2.955589</td>\n",
       "      <td>4.272673</td>\n",
       "    </tr>\n",
       "    <tr>\n",
       "      <th>log_meal</th>\n",
       "      <td>336.0</td>\n",
       "      <td>-inf</td>\n",
       "      <td>NaN</td>\n",
       "      <td>-inf</td>\n",
       "      <td>3.160889</td>\n",
       "      <td>3.797255</td>\n",
       "      <td>4.208961</td>\n",
       "      <td>4.605170</td>\n",
       "    </tr>\n",
       "    <tr>\n",
       "      <th>log_comp</th>\n",
       "      <td>336.0</td>\n",
       "      <td>-inf</td>\n",
       "      <td>NaN</td>\n",
       "      <td>-inf</td>\n",
       "      <td>3.828641</td>\n",
       "      <td>4.731793</td>\n",
       "      <td>6.014935</td>\n",
       "      <td>8.108924</td>\n",
       "    </tr>\n",
       "    <tr>\n",
       "      <th>log_comstu</th>\n",
       "      <td>336.0</td>\n",
       "      <td>-inf</td>\n",
       "      <td>NaN</td>\n",
       "      <td>-inf</td>\n",
       "      <td>-2.346760</td>\n",
       "      <td>-2.070495</td>\n",
       "      <td>-1.824405</td>\n",
       "      <td>-0.865518</td>\n",
       "    </tr>\n",
       "    <tr>\n",
       "      <th>log_exp</th>\n",
       "      <td>336.0</td>\n",
       "      <td>8.567468e+00</td>\n",
       "      <td>0.114271</td>\n",
       "      <td>8.275394e+00</td>\n",
       "      <td>8.496309</td>\n",
       "      <td>8.557010</td>\n",
       "      <td>8.629727</td>\n",
       "      <td>8.950469</td>\n",
       "    </tr>\n",
       "    <tr>\n",
       "      <th>log_avg</th>\n",
       "      <td>336.0</td>\n",
       "      <td>2.631656e+00</td>\n",
       "      <td>0.387379</td>\n",
       "      <td>1.674289e+00</td>\n",
       "      <td>2.360005</td>\n",
       "      <td>2.610657</td>\n",
       "      <td>2.859533</td>\n",
       "      <td>4.013279</td>\n",
       "    </tr>\n",
       "    <tr>\n",
       "      <th>log_elpct</th>\n",
       "      <td>336.0</td>\n",
       "      <td>-inf</td>\n",
       "      <td>NaN</td>\n",
       "      <td>-inf</td>\n",
       "      <td>0.660199</td>\n",
       "      <td>2.180573</td>\n",
       "      <td>3.134186</td>\n",
       "      <td>4.448981</td>\n",
       "    </tr>\n",
       "  </tbody>\n",
       "</table>\n",
       "</div>"
      ],
      "text/plain": [
       "                    count          mean          std           min  \\\n",
       "Observation Number  336.0  2.101607e+02   119.693456  1.000000e+00   \n",
       "dist_cod            336.0  6.740967e+04  3521.473582  6.145700e+04   \n",
       "enrl_tot            336.0  2.776741e+03  4044.710932  8.100000e+01   \n",
       "teachers            336.0  1.363523e+02   194.969439  4.850000e+00   \n",
       "calw_pct            336.0  1.331947e+01    11.006004  0.000000e+00   \n",
       "meal_pct            336.0  4.540974e+01    26.795360  0.000000e+00   \n",
       "computer            336.0  3.208363e+02   468.159502  0.000000e+00   \n",
       "testscr             336.0  6.541516e+02    18.748142  6.055500e+02   \n",
       "comp_stu            336.0  1.356078e-01     0.063734  0.000000e+00   \n",
       "expn_stu            336.0  5.292959e+03   629.413551  3.926070e+03   \n",
       "str                 336.0  1.968022e+01     1.900381  1.400000e+01   \n",
       "avginc              336.0  1.507846e+01     6.992203  5.335000e+00   \n",
       "el_pct              336.0  1.608036e+01    18.724276  0.000000e+00   \n",
       "read_scr            336.0  6.548390e+02    19.853882  6.045000e+02   \n",
       "math_scr            336.0  6.534643e+02    18.387314  6.054000e+02   \n",
       "Unnamed: 18           0.0           NaN          NaN           NaN   \n",
       "Unnamed: 19           0.0           NaN          NaN           NaN   \n",
       "Unnamed: 20           0.0           NaN          NaN           NaN   \n",
       "Unnamed: 21           0.0           NaN          NaN           NaN   \n",
       "Unnamed: 22           0.0           NaN          NaN           NaN   \n",
       "Unnamed: 23           0.0           NaN          NaN           NaN   \n",
       "BoxCoxtest          336.0  1.564844e+01     0.136783  1.528488e+01   \n",
       "log_testscr         336.0  6.482930e+00     0.028664  6.406137e+00   \n",
       "log_str             336.0  2.974908e+00     0.097615  2.639057e+00   \n",
       "log_cal             336.0          -inf          NaN          -inf   \n",
       "log_meal            336.0          -inf          NaN          -inf   \n",
       "log_comp            336.0          -inf          NaN          -inf   \n",
       "log_comstu          336.0          -inf          NaN          -inf   \n",
       "log_exp             336.0  8.567468e+00     0.114271  8.275394e+00   \n",
       "log_avg             336.0  2.631656e+00     0.387379  1.674289e+00   \n",
       "log_elpct           336.0          -inf          NaN          -inf   \n",
       "\n",
       "                             25%           50%           75%           max  \n",
       "Observation Number    110.750000    207.500000    313.250000    419.000000  \n",
       "dist_cod            64059.250000  67570.000000  70488.500000  75440.000000  \n",
       "enrl_tot              381.250000    909.500000   3481.250000  27176.000000  \n",
       "teachers               19.599999     46.985001    173.079998   1429.000000  \n",
       "calw_pct                4.662050     10.693850     19.213575     71.713097  \n",
       "meal_pct               23.591725     44.578751     67.286676    100.000000  \n",
       "computer               46.000000    113.500000    409.500000   3324.000000  \n",
       "testscr               640.887512    654.149963    666.650024    706.750000  \n",
       "comp_stu                0.095679      0.126123      0.161314      0.420833  \n",
       "expn_stu             4896.660767   5203.101562   5595.549194   7711.506836  \n",
       "str                    18.630548     19.752111     20.892043     25.799999  \n",
       "avginc                 10.591020     13.608000     17.453400     55.327999  \n",
       "el_pct                  1.935184      8.851380     22.970003     85.539719  \n",
       "read_scr              641.275024    655.400024    668.725006    704.000000  \n",
       "math_scr              639.900024    652.349976    665.799988    709.500000  \n",
       "Unnamed: 18                  NaN           NaN           NaN           NaN  \n",
       "Unnamed: 19                  NaN           NaN           NaN           NaN  \n",
       "Unnamed: 20                  NaN           NaN           NaN           NaN  \n",
       "Unnamed: 21                  NaN           NaN           NaN           NaN  \n",
       "Unnamed: 22                  NaN           NaN           NaN           NaN  \n",
       "Unnamed: 23                  NaN           NaN           NaN           NaN  \n",
       "BoxCoxtest             15.552396     15.649912     15.740457     16.022490  \n",
       "log_testscr             6.462854      6.483337      6.502265      6.560677  \n",
       "log_str                 2.924802      2.983260      3.039368      3.250374  \n",
       "log_cal                 1.539455      2.369669      2.955589      4.272673  \n",
       "log_meal                3.160889      3.797255      4.208961      4.605170  \n",
       "log_comp                3.828641      4.731793      6.014935      8.108924  \n",
       "log_comstu             -2.346760     -2.070495     -1.824405     -0.865518  \n",
       "log_exp                 8.496309      8.557010      8.629727      8.950469  \n",
       "log_avg                 2.360005      2.610657      2.859533      4.013279  \n",
       "log_elpct               0.660199      2.180573      3.134186      4.448981  "
      ]
     },
     "execution_count": 36,
     "metadata": {},
     "output_type": "execute_result"
    }
   ],
   "source": [
    "train.describe().T"
   ]
  },
  {
   "cell_type": "code",
   "execution_count": 37,
   "id": "difficult-upset",
   "metadata": {},
   "outputs": [],
   "source": [
    "#based on above observations, we can see that clwpct, computer, expstud, avginc, and elpct 5 predictors may need log-transformation\n",
    "train.iloc[np.argmax(train.computer),:]\n",
    "#some outliers exist \n",
    "#train = train.drop([227])\n",
    "#list(np.argsort(-train_1.enrl_tot)[0:10])\n",
    "#train_1 = train.drop([list(np.argsort(-train_1.enrl_tot)[0:9])], axis = 0)\n",
    "train = train[train.enrl_tot < 13000]\n",
    "\n",
    "#np.sort(-train_1.enrl_tot)[0:10]"
   ]
  },
  {
   "cell_type": "code",
   "execution_count": 38,
   "id": "miniature-thousand",
   "metadata": {},
   "outputs": [
    {
     "data": {
      "text/html": [
       "<div>\n",
       "<style scoped>\n",
       "    .dataframe tbody tr th:only-of-type {\n",
       "        vertical-align: middle;\n",
       "    }\n",
       "\n",
       "    .dataframe tbody tr th {\n",
       "        vertical-align: top;\n",
       "    }\n",
       "\n",
       "    .dataframe thead th {\n",
       "        text-align: right;\n",
       "    }\n",
       "</style>\n",
       "<table border=\"1\" class=\"dataframe\">\n",
       "  <thead>\n",
       "    <tr style=\"text-align: right;\">\n",
       "      <th></th>\n",
       "      <th>count</th>\n",
       "      <th>mean</th>\n",
       "      <th>std</th>\n",
       "      <th>min</th>\n",
       "      <th>25%</th>\n",
       "      <th>50%</th>\n",
       "      <th>75%</th>\n",
       "      <th>max</th>\n",
       "    </tr>\n",
       "  </thead>\n",
       "  <tbody>\n",
       "    <tr>\n",
       "      <th>Observation Number</th>\n",
       "      <td>325.0</td>\n",
       "      <td>2.121015e+02</td>\n",
       "      <td>119.480455</td>\n",
       "      <td>1.000000e+00</td>\n",
       "      <td>115.000000</td>\n",
       "      <td>210.000000</td>\n",
       "      <td>315.000000</td>\n",
       "      <td>419.000000</td>\n",
       "    </tr>\n",
       "    <tr>\n",
       "      <th>dist_cod</th>\n",
       "      <td>325.0</td>\n",
       "      <td>6.740537e+04</td>\n",
       "      <td>3551.447694</td>\n",
       "      <td>6.145700e+04</td>\n",
       "      <td>63990.000000</td>\n",
       "      <td>67504.000000</td>\n",
       "      <td>70599.000000</td>\n",
       "      <td>75440.000000</td>\n",
       "    </tr>\n",
       "    <tr>\n",
       "      <th>enrl_tot</th>\n",
       "      <td>325.0</td>\n",
       "      <td>2.250335e+03</td>\n",
       "      <td>2819.681763</td>\n",
       "      <td>8.100000e+01</td>\n",
       "      <td>374.000000</td>\n",
       "      <td>859.000000</td>\n",
       "      <td>3017.000000</td>\n",
       "      <td>12567.000000</td>\n",
       "    </tr>\n",
       "    <tr>\n",
       "      <th>teachers</th>\n",
       "      <td>325.0</td>\n",
       "      <td>1.114197e+02</td>\n",
       "      <td>136.667061</td>\n",
       "      <td>4.850000e+00</td>\n",
       "      <td>18.719999</td>\n",
       "      <td>45.000000</td>\n",
       "      <td>147.979996</td>\n",
       "      <td>620.380005</td>\n",
       "    </tr>\n",
       "    <tr>\n",
       "      <th>calw_pct</th>\n",
       "      <td>325.0</td>\n",
       "      <td>1.319363e+01</td>\n",
       "      <td>11.032585</td>\n",
       "      <td>0.000000e+00</td>\n",
       "      <td>4.472200</td>\n",
       "      <td>10.484700</td>\n",
       "      <td>19.130400</td>\n",
       "      <td>71.713097</td>\n",
       "    </tr>\n",
       "    <tr>\n",
       "      <th>meal_pct</th>\n",
       "      <td>325.0</td>\n",
       "      <td>4.503495e+01</td>\n",
       "      <td>26.892462</td>\n",
       "      <td>0.000000e+00</td>\n",
       "      <td>23.301001</td>\n",
       "      <td>43.902401</td>\n",
       "      <td>66.949203</td>\n",
       "      <td>100.000000</td>\n",
       "    </tr>\n",
       "    <tr>\n",
       "      <th>computer</th>\n",
       "      <td>325.0</td>\n",
       "      <td>2.654031e+02</td>\n",
       "      <td>341.345921</td>\n",
       "      <td>0.000000e+00</td>\n",
       "      <td>45.000000</td>\n",
       "      <td>105.000000</td>\n",
       "      <td>345.000000</td>\n",
       "      <td>1719.000000</td>\n",
       "    </tr>\n",
       "    <tr>\n",
       "      <th>testscr</th>\n",
       "      <td>325.0</td>\n",
       "      <td>6.544242e+02</td>\n",
       "      <td>18.740825</td>\n",
       "      <td>6.055500e+02</td>\n",
       "      <td>641.449951</td>\n",
       "      <td>654.299988</td>\n",
       "      <td>666.699951</td>\n",
       "      <td>706.750000</td>\n",
       "    </tr>\n",
       "    <tr>\n",
       "      <th>comp_stu</th>\n",
       "      <td>325.0</td>\n",
       "      <td>1.365622e-01</td>\n",
       "      <td>0.064363</td>\n",
       "      <td>0.000000e+00</td>\n",
       "      <td>0.095710</td>\n",
       "      <td>0.126316</td>\n",
       "      <td>0.164402</td>\n",
       "      <td>0.420833</td>\n",
       "    </tr>\n",
       "    <tr>\n",
       "      <th>expn_stu</th>\n",
       "      <td>325.0</td>\n",
       "      <td>5.295799e+03</td>\n",
       "      <td>637.556414</td>\n",
       "      <td>3.926070e+03</td>\n",
       "      <td>4886.983887</td>\n",
       "      <td>5205.941895</td>\n",
       "      <td>5599.607910</td>\n",
       "      <td>7711.506836</td>\n",
       "    </tr>\n",
       "    <tr>\n",
       "      <th>str</th>\n",
       "      <td>325.0</td>\n",
       "      <td>1.962950e+01</td>\n",
       "      <td>1.900891</td>\n",
       "      <td>1.400000e+01</td>\n",
       "      <td>18.476868</td>\n",
       "      <td>19.678465</td>\n",
       "      <td>20.827339</td>\n",
       "      <td>25.799999</td>\n",
       "    </tr>\n",
       "    <tr>\n",
       "      <th>avginc</th>\n",
       "      <td>325.0</td>\n",
       "      <td>1.506881e+01</td>\n",
       "      <td>7.066874</td>\n",
       "      <td>5.335000e+00</td>\n",
       "      <td>10.551000</td>\n",
       "      <td>13.579000</td>\n",
       "      <td>17.507999</td>\n",
       "      <td>55.327999</td>\n",
       "    </tr>\n",
       "    <tr>\n",
       "      <th>el_pct</th>\n",
       "      <td>325.0</td>\n",
       "      <td>1.561893e+01</td>\n",
       "      <td>18.607170</td>\n",
       "      <td>0.000000e+00</td>\n",
       "      <td>1.795332</td>\n",
       "      <td>8.639706</td>\n",
       "      <td>22.691294</td>\n",
       "      <td>85.539719</td>\n",
       "    </tr>\n",
       "    <tr>\n",
       "      <th>read_scr</th>\n",
       "      <td>325.0</td>\n",
       "      <td>6.551695e+02</td>\n",
       "      <td>19.875311</td>\n",
       "      <td>6.045000e+02</td>\n",
       "      <td>641.500000</td>\n",
       "      <td>655.500000</td>\n",
       "      <td>668.799988</td>\n",
       "      <td>704.000000</td>\n",
       "    </tr>\n",
       "    <tr>\n",
       "      <th>math_scr</th>\n",
       "      <td>325.0</td>\n",
       "      <td>6.536788e+02</td>\n",
       "      <td>18.364551</td>\n",
       "      <td>6.054000e+02</td>\n",
       "      <td>641.099976</td>\n",
       "      <td>652.700012</td>\n",
       "      <td>665.799988</td>\n",
       "      <td>709.500000</td>\n",
       "    </tr>\n",
       "    <tr>\n",
       "      <th>Unnamed: 18</th>\n",
       "      <td>0.0</td>\n",
       "      <td>NaN</td>\n",
       "      <td>NaN</td>\n",
       "      <td>NaN</td>\n",
       "      <td>NaN</td>\n",
       "      <td>NaN</td>\n",
       "      <td>NaN</td>\n",
       "      <td>NaN</td>\n",
       "    </tr>\n",
       "    <tr>\n",
       "      <th>Unnamed: 19</th>\n",
       "      <td>0.0</td>\n",
       "      <td>NaN</td>\n",
       "      <td>NaN</td>\n",
       "      <td>NaN</td>\n",
       "      <td>NaN</td>\n",
       "      <td>NaN</td>\n",
       "      <td>NaN</td>\n",
       "      <td>NaN</td>\n",
       "    </tr>\n",
       "    <tr>\n",
       "      <th>Unnamed: 20</th>\n",
       "      <td>0.0</td>\n",
       "      <td>NaN</td>\n",
       "      <td>NaN</td>\n",
       "      <td>NaN</td>\n",
       "      <td>NaN</td>\n",
       "      <td>NaN</td>\n",
       "      <td>NaN</td>\n",
       "      <td>NaN</td>\n",
       "    </tr>\n",
       "    <tr>\n",
       "      <th>Unnamed: 21</th>\n",
       "      <td>0.0</td>\n",
       "      <td>NaN</td>\n",
       "      <td>NaN</td>\n",
       "      <td>NaN</td>\n",
       "      <td>NaN</td>\n",
       "      <td>NaN</td>\n",
       "      <td>NaN</td>\n",
       "      <td>NaN</td>\n",
       "    </tr>\n",
       "    <tr>\n",
       "      <th>Unnamed: 22</th>\n",
       "      <td>0.0</td>\n",
       "      <td>NaN</td>\n",
       "      <td>NaN</td>\n",
       "      <td>NaN</td>\n",
       "      <td>NaN</td>\n",
       "      <td>NaN</td>\n",
       "      <td>NaN</td>\n",
       "      <td>NaN</td>\n",
       "    </tr>\n",
       "    <tr>\n",
       "      <th>Unnamed: 23</th>\n",
       "      <td>0.0</td>\n",
       "      <td>NaN</td>\n",
       "      <td>NaN</td>\n",
       "      <td>NaN</td>\n",
       "      <td>NaN</td>\n",
       "      <td>NaN</td>\n",
       "      <td>NaN</td>\n",
       "      <td>NaN</td>\n",
       "    </tr>\n",
       "    <tr>\n",
       "      <th>BoxCoxtest</th>\n",
       "      <td>325.0</td>\n",
       "      <td>1.565043e+01</td>\n",
       "      <td>0.136733</td>\n",
       "      <td>1.528488e+01</td>\n",
       "      <td>15.556563</td>\n",
       "      <td>15.651006</td>\n",
       "      <td>15.740816</td>\n",
       "      <td>16.022490</td>\n",
       "    </tr>\n",
       "    <tr>\n",
       "      <th>log_testscr</th>\n",
       "      <td>325.0</td>\n",
       "      <td>6.483347e+00</td>\n",
       "      <td>0.028654</td>\n",
       "      <td>6.406137e+00</td>\n",
       "      <td>6.463731</td>\n",
       "      <td>6.483566</td>\n",
       "      <td>6.502340</td>\n",
       "      <td>6.560677</td>\n",
       "    </tr>\n",
       "    <tr>\n",
       "      <th>log_str</th>\n",
       "      <td>325.0</td>\n",
       "      <td>2.972311e+00</td>\n",
       "      <td>0.097733</td>\n",
       "      <td>2.639057e+00</td>\n",
       "      <td>2.916520</td>\n",
       "      <td>2.979525</td>\n",
       "      <td>3.036267</td>\n",
       "      <td>3.250374</td>\n",
       "    </tr>\n",
       "    <tr>\n",
       "      <th>log_cal</th>\n",
       "      <td>325.0</td>\n",
       "      <td>-inf</td>\n",
       "      <td>NaN</td>\n",
       "      <td>-inf</td>\n",
       "      <td>1.497880</td>\n",
       "      <td>2.349917</td>\n",
       "      <td>2.951279</td>\n",
       "      <td>4.272673</td>\n",
       "    </tr>\n",
       "    <tr>\n",
       "      <th>log_meal</th>\n",
       "      <td>325.0</td>\n",
       "      <td>-inf</td>\n",
       "      <td>NaN</td>\n",
       "      <td>-inf</td>\n",
       "      <td>3.148496</td>\n",
       "      <td>3.781969</td>\n",
       "      <td>4.203934</td>\n",
       "      <td>4.605170</td>\n",
       "    </tr>\n",
       "    <tr>\n",
       "      <th>log_comp</th>\n",
       "      <td>325.0</td>\n",
       "      <td>-inf</td>\n",
       "      <td>NaN</td>\n",
       "      <td>-inf</td>\n",
       "      <td>3.806662</td>\n",
       "      <td>4.653960</td>\n",
       "      <td>5.843544</td>\n",
       "      <td>7.449498</td>\n",
       "    </tr>\n",
       "    <tr>\n",
       "      <th>log_comstu</th>\n",
       "      <td>325.0</td>\n",
       "      <td>-inf</td>\n",
       "      <td>NaN</td>\n",
       "      <td>-inf</td>\n",
       "      <td>-2.346437</td>\n",
       "      <td>-2.068970</td>\n",
       "      <td>-1.805442</td>\n",
       "      <td>-0.865518</td>\n",
       "    </tr>\n",
       "    <tr>\n",
       "      <th>log_exp</th>\n",
       "      <td>325.0</td>\n",
       "      <td>8.567835e+00</td>\n",
       "      <td>0.115743</td>\n",
       "      <td>8.275394e+00</td>\n",
       "      <td>8.494331</td>\n",
       "      <td>8.557556</td>\n",
       "      <td>8.630452</td>\n",
       "      <td>8.950469</td>\n",
       "    </tr>\n",
       "    <tr>\n",
       "      <th>log_avg</th>\n",
       "      <td>325.0</td>\n",
       "      <td>2.629259e+00</td>\n",
       "      <td>0.391405</td>\n",
       "      <td>1.674289e+00</td>\n",
       "      <td>2.356221</td>\n",
       "      <td>2.608525</td>\n",
       "      <td>2.862658</td>\n",
       "      <td>4.013279</td>\n",
       "    </tr>\n",
       "    <tr>\n",
       "      <th>log_elpct</th>\n",
       "      <td>325.0</td>\n",
       "      <td>-inf</td>\n",
       "      <td>NaN</td>\n",
       "      <td>-inf</td>\n",
       "      <td>0.585190</td>\n",
       "      <td>2.156369</td>\n",
       "      <td>3.121981</td>\n",
       "      <td>4.448981</td>\n",
       "    </tr>\n",
       "  </tbody>\n",
       "</table>\n",
       "</div>"
      ],
      "text/plain": [
       "                    count          mean          std           min  \\\n",
       "Observation Number  325.0  2.121015e+02   119.480455  1.000000e+00   \n",
       "dist_cod            325.0  6.740537e+04  3551.447694  6.145700e+04   \n",
       "enrl_tot            325.0  2.250335e+03  2819.681763  8.100000e+01   \n",
       "teachers            325.0  1.114197e+02   136.667061  4.850000e+00   \n",
       "calw_pct            325.0  1.319363e+01    11.032585  0.000000e+00   \n",
       "meal_pct            325.0  4.503495e+01    26.892462  0.000000e+00   \n",
       "computer            325.0  2.654031e+02   341.345921  0.000000e+00   \n",
       "testscr             325.0  6.544242e+02    18.740825  6.055500e+02   \n",
       "comp_stu            325.0  1.365622e-01     0.064363  0.000000e+00   \n",
       "expn_stu            325.0  5.295799e+03   637.556414  3.926070e+03   \n",
       "str                 325.0  1.962950e+01     1.900891  1.400000e+01   \n",
       "avginc              325.0  1.506881e+01     7.066874  5.335000e+00   \n",
       "el_pct              325.0  1.561893e+01    18.607170  0.000000e+00   \n",
       "read_scr            325.0  6.551695e+02    19.875311  6.045000e+02   \n",
       "math_scr            325.0  6.536788e+02    18.364551  6.054000e+02   \n",
       "Unnamed: 18           0.0           NaN          NaN           NaN   \n",
       "Unnamed: 19           0.0           NaN          NaN           NaN   \n",
       "Unnamed: 20           0.0           NaN          NaN           NaN   \n",
       "Unnamed: 21           0.0           NaN          NaN           NaN   \n",
       "Unnamed: 22           0.0           NaN          NaN           NaN   \n",
       "Unnamed: 23           0.0           NaN          NaN           NaN   \n",
       "BoxCoxtest          325.0  1.565043e+01     0.136733  1.528488e+01   \n",
       "log_testscr         325.0  6.483347e+00     0.028654  6.406137e+00   \n",
       "log_str             325.0  2.972311e+00     0.097733  2.639057e+00   \n",
       "log_cal             325.0          -inf          NaN          -inf   \n",
       "log_meal            325.0          -inf          NaN          -inf   \n",
       "log_comp            325.0          -inf          NaN          -inf   \n",
       "log_comstu          325.0          -inf          NaN          -inf   \n",
       "log_exp             325.0  8.567835e+00     0.115743  8.275394e+00   \n",
       "log_avg             325.0  2.629259e+00     0.391405  1.674289e+00   \n",
       "log_elpct           325.0          -inf          NaN          -inf   \n",
       "\n",
       "                             25%           50%           75%           max  \n",
       "Observation Number    115.000000    210.000000    315.000000    419.000000  \n",
       "dist_cod            63990.000000  67504.000000  70599.000000  75440.000000  \n",
       "enrl_tot              374.000000    859.000000   3017.000000  12567.000000  \n",
       "teachers               18.719999     45.000000    147.979996    620.380005  \n",
       "calw_pct                4.472200     10.484700     19.130400     71.713097  \n",
       "meal_pct               23.301001     43.902401     66.949203    100.000000  \n",
       "computer               45.000000    105.000000    345.000000   1719.000000  \n",
       "testscr               641.449951    654.299988    666.699951    706.750000  \n",
       "comp_stu                0.095710      0.126316      0.164402      0.420833  \n",
       "expn_stu             4886.983887   5205.941895   5599.607910   7711.506836  \n",
       "str                    18.476868     19.678465     20.827339     25.799999  \n",
       "avginc                 10.551000     13.579000     17.507999     55.327999  \n",
       "el_pct                  1.795332      8.639706     22.691294     85.539719  \n",
       "read_scr              641.500000    655.500000    668.799988    704.000000  \n",
       "math_scr              641.099976    652.700012    665.799988    709.500000  \n",
       "Unnamed: 18                  NaN           NaN           NaN           NaN  \n",
       "Unnamed: 19                  NaN           NaN           NaN           NaN  \n",
       "Unnamed: 20                  NaN           NaN           NaN           NaN  \n",
       "Unnamed: 21                  NaN           NaN           NaN           NaN  \n",
       "Unnamed: 22                  NaN           NaN           NaN           NaN  \n",
       "Unnamed: 23                  NaN           NaN           NaN           NaN  \n",
       "BoxCoxtest             15.556563     15.651006     15.740816     16.022490  \n",
       "log_testscr             6.463731      6.483566      6.502340      6.560677  \n",
       "log_str                 2.916520      2.979525      3.036267      3.250374  \n",
       "log_cal                 1.497880      2.349917      2.951279      4.272673  \n",
       "log_meal                3.148496      3.781969      4.203934      4.605170  \n",
       "log_comp                3.806662      4.653960      5.843544      7.449498  \n",
       "log_comstu             -2.346437     -2.068970     -1.805442     -0.865518  \n",
       "log_exp                 8.494331      8.557556      8.630452      8.950469  \n",
       "log_avg                 2.356221      2.608525      2.862658      4.013279  \n",
       "log_elpct               0.585190      2.156369      3.121981      4.448981  "
      ]
     },
     "execution_count": 38,
     "metadata": {},
     "output_type": "execute_result"
    }
   ],
   "source": [
    "#independent variables (log transformation)\n",
    "#train['log_str']=np.log(train['str'])\n",
    "#train['log_cal']=np.log(train['calw_pct'])\n",
    "#train['log_meal']=np.log(train['meal_pct'])\n",
    "#train['log_comp']=np.log(train['computer'])\n",
    "#train['log_comstu']=np.log(train['comp_stu'])\n",
    "#train['log_exp']=np.log(train['expn_stu'])\n",
    "#train['log_avg']=np.log(train['avginc'])\n",
    "#train['log_elpct']=np.log(train['el_pct'])\n",
    "#data cleaning by eliminating NA\n",
    "#train=train[train['log_cal']>=0]\n",
    "train.describe().T"
   ]
  },
  {
   "cell_type": "code",
   "execution_count": 39,
   "id": "buried-membership",
   "metadata": {},
   "outputs": [
    {
     "data": {
      "text/plain": [
       "1    279\n",
       "0     46\n",
       "Name: gr_span, dtype: int64"
      ]
     },
     "execution_count": 39,
     "metadata": {},
     "output_type": "execute_result"
    }
   ],
   "source": [
    "#categorical variable\n",
    "#gr_span\n",
    "gr_span_category={'KK-08':1,'KK-06':0}\n",
    "train['gr_span']=train['gr_span'].replace(gr_span_category)\n",
    "train['gr_span'].value_counts()"
   ]
  },
  {
   "cell_type": "code",
   "execution_count": 40,
   "id": "complimentary-filing",
   "metadata": {},
   "outputs": [
    {
     "data": {
      "text/html": [
       "<div>\n",
       "<style scoped>\n",
       "    .dataframe tbody tr th:only-of-type {\n",
       "        vertical-align: middle;\n",
       "    }\n",
       "\n",
       "    .dataframe tbody tr th {\n",
       "        vertical-align: top;\n",
       "    }\n",
       "\n",
       "    .dataframe thead th {\n",
       "        text-align: right;\n",
       "    }\n",
       "</style>\n",
       "<table border=\"1\" class=\"dataframe\">\n",
       "  <thead>\n",
       "    <tr style=\"text-align: right;\">\n",
       "      <th></th>\n",
       "      <th>Observation Number</th>\n",
       "      <th>dist_cod</th>\n",
       "      <th>county</th>\n",
       "      <th>district</th>\n",
       "      <th>gr_span</th>\n",
       "      <th>enrl_tot</th>\n",
       "      <th>teachers</th>\n",
       "      <th>calw_pct</th>\n",
       "      <th>meal_pct</th>\n",
       "      <th>computer</th>\n",
       "      <th>...</th>\n",
       "      <th>BoxCoxtest</th>\n",
       "      <th>log_testscr</th>\n",
       "      <th>log_str</th>\n",
       "      <th>log_cal</th>\n",
       "      <th>log_meal</th>\n",
       "      <th>log_comp</th>\n",
       "      <th>log_comstu</th>\n",
       "      <th>log_exp</th>\n",
       "      <th>log_avg</th>\n",
       "      <th>log_elpct</th>\n",
       "    </tr>\n",
       "  </thead>\n",
       "  <tbody>\n",
       "    <tr>\n",
       "      <th>0</th>\n",
       "      <td>327</td>\n",
       "      <td>68007</td>\n",
       "      <td>San Diego</td>\n",
       "      <td>Cardiff Elementary</td>\n",
       "      <td>0</td>\n",
       "      <td>900</td>\n",
       "      <td>50.750000</td>\n",
       "      <td>2.1018</td>\n",
       "      <td>24.336300</td>\n",
       "      <td>145</td>\n",
       "      <td>...</td>\n",
       "      <td>15.754824</td>\n",
       "      <td>6.505261</td>\n",
       "      <td>2.875483</td>\n",
       "      <td>0.742794</td>\n",
       "      <td>3.191969</td>\n",
       "      <td>4.976734</td>\n",
       "      <td>-1.825661</td>\n",
       "      <td>8.554842</td>\n",
       "      <td>3.089541</td>\n",
       "      <td>3.028522</td>\n",
       "    </tr>\n",
       "    <tr>\n",
       "      <th>1</th>\n",
       "      <td>219</td>\n",
       "      <td>68544</td>\n",
       "      <td>San Joaquin</td>\n",
       "      <td>Jefferson Elementary</td>\n",
       "      <td>1</td>\n",
       "      <td>865</td>\n",
       "      <td>43.500000</td>\n",
       "      <td>3.0842</td>\n",
       "      <td>12.574100</td>\n",
       "      <td>96</td>\n",
       "      <td>...</td>\n",
       "      <td>15.657567</td>\n",
       "      <td>6.484940</td>\n",
       "      <td>2.989969</td>\n",
       "      <td>1.126292</td>\n",
       "      <td>2.531639</td>\n",
       "      <td>4.564348</td>\n",
       "      <td>-2.198381</td>\n",
       "      <td>8.475851</td>\n",
       "      <td>2.679514</td>\n",
       "      <td>1.209736</td>\n",
       "    </tr>\n",
       "    <tr>\n",
       "      <th>2</th>\n",
       "      <td>329</td>\n",
       "      <td>67975</td>\n",
       "      <td>San Diego</td>\n",
       "      <td>Bonsall Union Elementary</td>\n",
       "      <td>1</td>\n",
       "      <td>1457</td>\n",
       "      <td>73.129997</td>\n",
       "      <td>5.9823</td>\n",
       "      <td>42.964001</td>\n",
       "      <td>0</td>\n",
       "      <td>...</td>\n",
       "      <td>15.756618</td>\n",
       "      <td>6.505635</td>\n",
       "      <td>2.991896</td>\n",
       "      <td>1.788805</td>\n",
       "      <td>3.760363</td>\n",
       "      <td>-inf</td>\n",
       "      <td>-inf</td>\n",
       "      <td>8.635426</td>\n",
       "      <td>2.995582</td>\n",
       "      <td>3.312500</td>\n",
       "    </tr>\n",
       "  </tbody>\n",
       "</table>\n",
       "<p>3 rows × 34 columns</p>\n",
       "</div>"
      ],
      "text/plain": [
       "   Observation Number  dist_cod       county                  district  \\\n",
       "0                 327     68007    San Diego        Cardiff Elementary   \n",
       "1                 219     68544  San Joaquin      Jefferson Elementary   \n",
       "2                 329     67975    San Diego  Bonsall Union Elementary   \n",
       "\n",
       "   gr_span  enrl_tot   teachers  calw_pct   meal_pct  computer  ...  \\\n",
       "0        0       900  50.750000    2.1018  24.336300       145  ...   \n",
       "1        1       865  43.500000    3.0842  12.574100        96  ...   \n",
       "2        1      1457  73.129997    5.9823  42.964001         0  ...   \n",
       "\n",
       "   BoxCoxtest  log_testscr   log_str   log_cal  log_meal  log_comp  \\\n",
       "0   15.754824     6.505261  2.875483  0.742794  3.191969  4.976734   \n",
       "1   15.657567     6.484940  2.989969  1.126292  2.531639  4.564348   \n",
       "2   15.756618     6.505635  2.991896  1.788805  3.760363      -inf   \n",
       "\n",
       "   log_comstu   log_exp   log_avg  log_elpct  \n",
       "0   -1.825661  8.554842  3.089541   3.028522  \n",
       "1   -2.198381  8.475851  2.679514   1.209736  \n",
       "2        -inf  8.635426  2.995582   3.312500  \n",
       "\n",
       "[3 rows x 34 columns]"
      ]
     },
     "execution_count": 40,
     "metadata": {},
     "output_type": "execute_result"
    }
   ],
   "source": [
    "train.head(3)\n",
    "#set(train['dist_cod'])"
   ]
  },
  {
   "cell_type": "code",
   "execution_count": 41,
   "id": "narrow-distance",
   "metadata": {},
   "outputs": [],
   "source": [
    "#predictors=train['enrl_tot','teachers','calw_pct','meal_pct','computer','comp_stu','expn_stu','str','avginc','el_pct']\n",
    "#print(predictors)"
   ]
  },
  {
   "cell_type": "code",
   "execution_count": 42,
   "id": "active-shipping",
   "metadata": {},
   "outputs": [],
   "source": [
    "test=['testscr','log_testscr','BoxCoxtest']"
   ]
  },
  {
   "cell_type": "code",
   "execution_count": 43,
   "id": "leading-reason",
   "metadata": {},
   "outputs": [
    {
     "data": {
      "text/html": [
       "<div>\n",
       "<style scoped>\n",
       "    .dataframe tbody tr th:only-of-type {\n",
       "        vertical-align: middle;\n",
       "    }\n",
       "\n",
       "    .dataframe tbody tr th {\n",
       "        vertical-align: top;\n",
       "    }\n",
       "\n",
       "    .dataframe thead th {\n",
       "        text-align: right;\n",
       "    }\n",
       "</style>\n",
       "<table border=\"1\" class=\"dataframe\">\n",
       "  <thead>\n",
       "    <tr style=\"text-align: right;\">\n",
       "      <th></th>\n",
       "      <th>testscr</th>\n",
       "      <th>log_testscr</th>\n",
       "      <th>BoxCoxtest</th>\n",
       "    </tr>\n",
       "  </thead>\n",
       "  <tbody>\n",
       "    <tr>\n",
       "      <th>count</th>\n",
       "      <td>325.00</td>\n",
       "      <td>325.00</td>\n",
       "      <td>325.00</td>\n",
       "    </tr>\n",
       "    <tr>\n",
       "      <th>mean</th>\n",
       "      <td>654.42</td>\n",
       "      <td>6.48</td>\n",
       "      <td>15.65</td>\n",
       "    </tr>\n",
       "    <tr>\n",
       "      <th>std</th>\n",
       "      <td>18.74</td>\n",
       "      <td>0.03</td>\n",
       "      <td>0.14</td>\n",
       "    </tr>\n",
       "    <tr>\n",
       "      <th>min</th>\n",
       "      <td>605.55</td>\n",
       "      <td>6.41</td>\n",
       "      <td>15.28</td>\n",
       "    </tr>\n",
       "    <tr>\n",
       "      <th>25%</th>\n",
       "      <td>641.45</td>\n",
       "      <td>6.46</td>\n",
       "      <td>15.56</td>\n",
       "    </tr>\n",
       "    <tr>\n",
       "      <th>50%</th>\n",
       "      <td>654.30</td>\n",
       "      <td>6.48</td>\n",
       "      <td>15.65</td>\n",
       "    </tr>\n",
       "    <tr>\n",
       "      <th>75%</th>\n",
       "      <td>666.70</td>\n",
       "      <td>6.50</td>\n",
       "      <td>15.74</td>\n",
       "    </tr>\n",
       "    <tr>\n",
       "      <th>max</th>\n",
       "      <td>706.75</td>\n",
       "      <td>6.56</td>\n",
       "      <td>16.02</td>\n",
       "    </tr>\n",
       "    <tr>\n",
       "      <th>Skew</th>\n",
       "      <td>0.03</td>\n",
       "      <td>-0.05</td>\n",
       "      <td>-0.03</td>\n",
       "    </tr>\n",
       "    <tr>\n",
       "      <th>Kurt</th>\n",
       "      <td>-0.18</td>\n",
       "      <td>-0.18</td>\n",
       "      <td>-0.18</td>\n",
       "    </tr>\n",
       "  </tbody>\n",
       "</table>\n",
       "</div>"
      ],
      "text/plain": [
       "       testscr  log_testscr  BoxCoxtest\n",
       "count   325.00       325.00      325.00\n",
       "mean    654.42         6.48       15.65\n",
       "std      18.74         0.03        0.14\n",
       "min     605.55         6.41       15.28\n",
       "25%     641.45         6.46       15.56\n",
       "50%     654.30         6.48       15.65\n",
       "75%     666.70         6.50       15.74\n",
       "max     706.75         6.56       16.02\n",
       "Skew      0.03        -0.05       -0.03\n",
       "Kurt     -0.18        -0.18       -0.18"
      ]
     },
     "execution_count": 43,
     "metadata": {},
     "output_type": "execute_result"
    }
   ],
   "source": [
    "#Univariate for response variable testscr\n",
    "table1_1=train[test].describe().round(2)\n",
    "table1_1.loc['Skew',:]=train[test].skew()\n",
    "table1_1.loc['Kurt', :]=train[test].kurt()\n",
    "table1_1.to_csv('table1_1.csv')\n",
    "table1_1.round(2)"
   ]
  },
  {
   "cell_type": "code",
   "execution_count": 44,
   "id": "subtle-hearing",
   "metadata": {
    "scrolled": true
   },
   "outputs": [
    {
     "data": {
      "image/png": "[encoded data removed]",
      "text/plain": [
       "<Figure size 1296x720 with 6 Axes>"
      ]
     },
     "metadata": {},
     "output_type": "display_data"
    }
   ],
   "source": [
    "#plot distribution and the boxplot of the responses\n",
    "fig, ax= plt.subplots(2,3, figsize=(18,10))\n",
    "sns.distplot(train['testscr'], ax=ax[0,0], kde=True,hist_kws={'alpha': 0.9}, kde_kws={'color': 'black', 'alpha': 0.6})\n",
    "ax[0,0].set(title='Historgam of test score', xlabel='test_score')\n",
    "sns.boxplot(train['testscr'], data=train, orient='v', ax=ax[1,0])\n",
    "ax[1,0].set(title='Box plot of test score', ylabel='test_score')\n",
    "\n",
    "sns.distplot(train['log_testscr'], ax=ax[0,1], kde=True,hist_kws={'alpha': 0.9}, kde_kws={'color': 'black', 'alpha': 0.6})\n",
    "ax[0,1].set(title='Historgam of Log test score', xlabel='Log_test_score')\n",
    "sns.boxplot(train['log_testscr'], data=train, orient='v', ax=ax[1,1])\n",
    "ax[1,1].set(title='Box plot of Log test score', ylabel='Log_test_score')\n",
    "\n",
    "sns.distplot(train['BoxCoxtest'], ax=ax[0,2], kde=True,hist_kws={'alpha': 0.9}, kde_kws={'color': 'black', 'alpha':\n",
    "0.6})\n",
    "ax[0,2].set(title='Historgam of Box-Cox Test Score', xlabel='Box-Cox Test Score')\n",
    "sns.boxplot(train['BoxCoxtest'], data=train, orient='v', ax=ax[1,2])\n",
    "ax[1,2].set(title='Box plot of Box-Cox Test Score', ylabel='Box-Cox Test Score')\n",
    "plt.show()\n",
    "fig.savefig(\"1.1.png\",format=\"png\",dpi=250)\n",
    "\n",
    "#seems to have an outlier in the response variable, let's detect it"
   ]
  },
  {
   "cell_type": "code",
   "execution_count": 45,
   "id": "impressed-apartment",
   "metadata": {},
   "outputs": [
    {
     "name": "stdout",
     "output_type": "stream",
     "text": [
      "[0.76025508 0.04145998 0.77361551 1.59652364 0.13756849 1.13701858\n",
      " 0.68276067 1.43629093 0.07076633 1.16106801 0.93394068 0.90187369\n",
      " 1.20372827 0.51976732 1.08882726 1.97337961 0.81093291 0.65337163\n",
      " 2.18447507 0.91247349 0.28729387 0.8804065  1.27587656 0.93660886\n",
      " 2.15775747 0.04671364 1.14227225 0.92058025 0.52778163 0.20437064\n",
      " 1.39077431 0.82171111 0.65337163 0.50640689 1.28131189 0.73077032\n",
      " 1.57514891 2.33945411 1.61790163 2.79638346 0.91790556 0.64802877\n",
      " 0.69336372 1.05952743 1.62334023 0.29255079 1.30268662 1.26260859\n",
      " 0.1135158  0.39952345 0.43960474 1.49775022 0.29264    0.16705325\n",
      " 0.11351906 0.91790556 0.26324444 0.12697196 0.58380558 2.00277516\n",
      " 1.02211757 1.94389485 0.43149797 0.41279141 1.08615909 1.55644561\n",
      " 0.94195499 0.11895439 0.14567526 1.38275674 0.35934969 0.18041042\n",
      " 1.85313573 1.19838541 1.74616308 0.65603981 0.51174976 0.12697196\n",
      " 0.10817293 0.4635617  0.02275668 0.39943424 0.14023666 1.37207101\n",
      " 0.39684875 0.66405737 0.5037322  0.60785501 1.54852051 2.25128049\n",
      " 0.62665077 0.79757248 0.69612436 0.47157926 0.78154061 1.64729719\n",
      " 0.2524695  0.51976732 0.17497509 0.47701134 0.10817293 0.86169994\n",
      " 2.42754506 0.07619841 0.68801759 0.42624431 0.54639572 0.53303529\n",
      " 0.62388687 1.69014238 1.17433924 0.58914845 0.36469582 0.94195825\n",
      " 0.80559004 0.74689465 1.4523228  0.42080897 0.53036386 1.95734774\n",
      " 1.43629093 1.25726246 0.36211359 0.31401473 0.69336372 0.8403252\n",
      " 0.01198174 0.13765769 0.73085952 1.31595459 1.28389086 0.3086686\n",
      " 0.71206702 1.14761512 0.8324001  0.43158717 0.22316315 0.89920226\n",
      " 1.20640297 0.99539671 1.46025116 0.96333298 1.34811405 0.95789765\n",
      " 0.17773899 0.65069694 2.54778894 0.2525587  0.76826938 0.01198174\n",
      " 1.70073892 0.72551666 0.50364299 0.42891574 0.62665077 0.00663561\n",
      " 0.93384822 0.38072768 0.56252005 0.49830013 1.37741388 1.45223359\n",
      " 2.03742112 2.12836191 0.76550875 1.77030171 1.07012396 0.62397608\n",
      " 1.0059965  0.78430125 1.35345691 0.54915962 0.42348041 0.06016654\n",
      " 0.79766168 0.40210241 0.04680937 0.58380558 0.55183105 0.77886918\n",
      " 2.35281454 1.93053441 0.6213079  1.63135453 1.48171836 0.26315524\n",
      " 2.24049902 0.02543138 0.42882328 1.00875714 1.47093689 0.30065756\n",
      " 0.13489379 0.93117679 0.24445194 0.6746539  0.64267938 1.0540921\n",
      " 2.11233005 1.82365423 0.26591914 0.04947754 0.97927564 0.10559396\n",
      " 2.17912894 0.61863321 0.77619448 0.53570672 0.12420806 0.43951227\n",
      " 0.59984071 0.03344568 0.95798685 0.33262883 1.50309309 2.06681342\n",
      " 0.40219488 0.82438254 0.02275668 0.54639898 1.18244274 1.34009648\n",
      " 0.94997255 0.33806416 2.03742112 0.92324843 0.06818084 0.57311984\n",
      " 0.92583392 0.39684875 0.02534217 0.72275276 0.03335648 0.86704606\n",
      " 1.08615909 0.8698067  0.03344894 0.30590796 1.04082413 0.34874989\n",
      " 1.19847461 0.96867911 2.03742112 0.42624431 0.58389478 0.4635617\n",
      " 0.79766168 1.85037509 0.45296517 0.38348832 0.12955093 0.82972867\n",
      " 0.85903176 0.39408811 0.49028256 0.51967812 0.18833552 0.12420806\n",
      " 0.03344894 0.05473121 0.89643836 0.53579593 2.61191639 0.98728994\n",
      " 0.57311658 1.0059965  1.18511418 0.21238821 1.20381748 0.47424744\n",
      " 0.97669015 2.02940356 0.20980272 0.03068504 0.4850289  1.73012795\n",
      " 0.37012789 0.53312776 1.23044914 0.57053435 0.65328243 0.4742507\n",
      " 0.93651965 0.58914845 1.66867192 0.16161466 0.79499351 0.39684875\n",
      " 0.59716601 1.59928754 1.59661937 0.15903569 0.94721191 0.56251679\n",
      " 0.01732461 0.52769242 1.94398731 1.24915243 0.11084763 1.11020526\n",
      " 0.6800925  1.06210966 0.64259017 0.93394068 1.0434031  0.04938834\n",
      " 0.00939625 1.08081622 1.0273745  0.44494761 0.30332573 0.72542745\n",
      " 0.04947754 0.15894322 0.36469582 0.10283006 0.20704208 0.18833552\n",
      " 0.95255478 0.11361153 1.35613161 0.20169595 0.24721584 0.16428935\n",
      " 0.84834277]\n"
     ]
    },
    {
     "data": {
      "text/plain": [
       "2.796383460007513"
      ]
     },
     "execution_count": 45,
     "metadata": {},
     "output_type": "execute_result"
    }
   ],
   "source": [
    "train['z_score']=stats.zscore(train['testscr'])\n",
    "z = np.abs(stats.zscore(train['testscr']))\n",
    "print(z)\n",
    "np.max(train['z_score'])"
   ]
  },
  {
   "cell_type": "code",
   "execution_count": 46,
   "id": "comparative-category",
   "metadata": {},
   "outputs": [],
   "source": [
    "#threshold = 3\n",
    "#print(np.where(z > 3))\n",
    "train = train.loc[train['z_score'].abs()<=2.7]"
   ]
  },
  {
   "cell_type": "code",
   "execution_count": 47,
   "id": "outer-while",
   "metadata": {},
   "outputs": [],
   "source": [
    "#print(z[120])"
   ]
  },
  {
   "cell_type": "code",
   "execution_count": 48,
   "id": "beneficial-alliance",
   "metadata": {},
   "outputs": [
    {
     "data": {
      "text/plain": [
       "<AxesSubplot:xlabel='gr_span', ylabel='testscr'>"
      ]
     },
     "execution_count": 48,
     "metadata": {},
     "output_type": "execute_result"
    },
    {
     "data": {
      "image/png": "[encoded data removed]",
      "text/plain": [
       "<Figure size 432x288 with 1 Axes>"
      ]
     },
     "metadata": {},
     "output_type": "display_data"
    }
   ],
   "source": [
    "#with categorical variables\n",
    "table1_2=train.groupby('gr_span')['testscr'].describe().unstack()\n",
    "table1_2.round(2)\n",
    "sns.boxplot(train['gr_span'],train['testscr'],palette='Blues')\n",
    "\n",
    "#based on the graph, the log test score have some distinctions between span of district 0 and 1\n",
    "#the span of 0 has much higher average scores compared to span of 1"
   ]
  },
  {
   "cell_type": "code",
   "execution_count": 49,
   "id": "authentic-cancellation",
   "metadata": {},
   "outputs": [
    {
     "data": {
      "text/plain": [
       "['Observation Number',\n",
       " 'dist_cod',\n",
       " 'county',\n",
       " 'district',\n",
       " 'gr_span',\n",
       " 'enrl_tot',\n",
       " 'teachers',\n",
       " 'calw_pct',\n",
       " 'meal_pct',\n",
       " 'computer',\n",
       " 'testscr',\n",
       " 'comp_stu',\n",
       " 'expn_stu',\n",
       " 'str',\n",
       " 'avginc',\n",
       " 'el_pct',\n",
       " 'read_scr',\n",
       " 'math_scr',\n",
       " 'Unnamed: 18',\n",
       " 'Unnamed: 19',\n",
       " 'Unnamed: 20',\n",
       " 'Unnamed: 21',\n",
       " 'Unnamed: 22',\n",
       " 'Unnamed: 23',\n",
       " 'BoxCoxtest',\n",
       " 'log_testscr',\n",
       " 'log_str',\n",
       " 'log_cal',\n",
       " 'log_meal',\n",
       " 'log_comp',\n",
       " 'log_comstu',\n",
       " 'log_exp',\n",
       " 'log_avg',\n",
       " 'log_elpct',\n",
       " 'z_score']"
      ]
     },
     "execution_count": 49,
     "metadata": {},
     "output_type": "execute_result"
    }
   ],
   "source": [
    "#you can mimic the codes above to run categorical analysis for other variables\n",
    "list(train)"
   ]
  },
  {
   "cell_type": "code",
   "execution_count": 50,
   "id": "veterinary-pickup",
   "metadata": {
    "scrolled": true
   },
   "outputs": [
    {
     "data": {
      "text/html": [
       "<div>\n",
       "<style scoped>\n",
       "    .dataframe tbody tr th:only-of-type {\n",
       "        vertical-align: middle;\n",
       "    }\n",
       "\n",
       "    .dataframe tbody tr th {\n",
       "        vertical-align: top;\n",
       "    }\n",
       "\n",
       "    .dataframe thead th {\n",
       "        text-align: right;\n",
       "    }\n",
       "</style>\n",
       "<table border=\"1\" class=\"dataframe\">\n",
       "  <thead>\n",
       "    <tr style=\"text-align: right;\">\n",
       "      <th></th>\n",
       "      <th>testscr</th>\n",
       "      <th>calw_pct</th>\n",
       "      <th>computer</th>\n",
       "      <th>comp_stu</th>\n",
       "      <th>expn_stu</th>\n",
       "      <th>str</th>\n",
       "      <th>avginc</th>\n",
       "      <th>el_pct</th>\n",
       "    </tr>\n",
       "  </thead>\n",
       "  <tbody>\n",
       "    <tr>\n",
       "      <th>testscr</th>\n",
       "      <td>1.000000</td>\n",
       "      <td>-0.626853</td>\n",
       "      <td>-0.073736</td>\n",
       "      <td>0.270703</td>\n",
       "      <td>0.191273</td>\n",
       "      <td>-0.226363</td>\n",
       "      <td>0.712431</td>\n",
       "      <td>-0.644124</td>\n",
       "    </tr>\n",
       "    <tr>\n",
       "      <th>calw_pct</th>\n",
       "      <td>-0.626853</td>\n",
       "      <td>1.000000</td>\n",
       "      <td>0.059160</td>\n",
       "      <td>-0.151968</td>\n",
       "      <td>0.067889</td>\n",
       "      <td>0.018276</td>\n",
       "      <td>-0.512651</td>\n",
       "      <td>0.319576</td>\n",
       "    </tr>\n",
       "    <tr>\n",
       "      <th>computer</th>\n",
       "      <td>-0.073736</td>\n",
       "      <td>0.059160</td>\n",
       "      <td>1.000000</td>\n",
       "      <td>-0.042422</td>\n",
       "      <td>-0.071311</td>\n",
       "      <td>0.233826</td>\n",
       "      <td>0.094343</td>\n",
       "      <td>0.291339</td>\n",
       "    </tr>\n",
       "    <tr>\n",
       "      <th>comp_stu</th>\n",
       "      <td>0.270703</td>\n",
       "      <td>-0.151968</td>\n",
       "      <td>-0.042422</td>\n",
       "      <td>1.000000</td>\n",
       "      <td>0.286560</td>\n",
       "      <td>-0.307070</td>\n",
       "      <td>0.194806</td>\n",
       "      <td>-0.251007</td>\n",
       "    </tr>\n",
       "    <tr>\n",
       "      <th>expn_stu</th>\n",
       "      <td>0.191273</td>\n",
       "      <td>0.067889</td>\n",
       "      <td>-0.071311</td>\n",
       "      <td>0.286560</td>\n",
       "      <td>1.000000</td>\n",
       "      <td>-0.619982</td>\n",
       "      <td>0.314484</td>\n",
       "      <td>-0.071396</td>\n",
       "    </tr>\n",
       "    <tr>\n",
       "      <th>str</th>\n",
       "      <td>-0.226363</td>\n",
       "      <td>0.018276</td>\n",
       "      <td>0.233826</td>\n",
       "      <td>-0.307070</td>\n",
       "      <td>-0.619982</td>\n",
       "      <td>1.000000</td>\n",
       "      <td>-0.232194</td>\n",
       "      <td>0.187642</td>\n",
       "    </tr>\n",
       "    <tr>\n",
       "      <th>avginc</th>\n",
       "      <td>0.712431</td>\n",
       "      <td>-0.512651</td>\n",
       "      <td>0.094343</td>\n",
       "      <td>0.194806</td>\n",
       "      <td>0.314484</td>\n",
       "      <td>-0.232194</td>\n",
       "      <td>1.000000</td>\n",
       "      <td>-0.307419</td>\n",
       "    </tr>\n",
       "    <tr>\n",
       "      <th>el_pct</th>\n",
       "      <td>-0.644124</td>\n",
       "      <td>0.319576</td>\n",
       "      <td>0.291339</td>\n",
       "      <td>-0.251007</td>\n",
       "      <td>-0.071396</td>\n",
       "      <td>0.187642</td>\n",
       "      <td>-0.307419</td>\n",
       "      <td>1.000000</td>\n",
       "    </tr>\n",
       "  </tbody>\n",
       "</table>\n",
       "</div>"
      ],
      "text/plain": [
       "           testscr  calw_pct  computer  comp_stu  expn_stu       str  \\\n",
       "testscr   1.000000 -0.626853 -0.073736  0.270703  0.191273 -0.226363   \n",
       "calw_pct -0.626853  1.000000  0.059160 -0.151968  0.067889  0.018276   \n",
       "computer -0.073736  0.059160  1.000000 -0.042422 -0.071311  0.233826   \n",
       "comp_stu  0.270703 -0.151968 -0.042422  1.000000  0.286560 -0.307070   \n",
       "expn_stu  0.191273  0.067889 -0.071311  0.286560  1.000000 -0.619982   \n",
       "str      -0.226363  0.018276  0.233826 -0.307070 -0.619982  1.000000   \n",
       "avginc    0.712431 -0.512651  0.094343  0.194806  0.314484 -0.232194   \n",
       "el_pct   -0.644124  0.319576  0.291339 -0.251007 -0.071396  0.187642   \n",
       "\n",
       "            avginc    el_pct  \n",
       "testscr   0.712431 -0.644124  \n",
       "calw_pct -0.512651  0.319576  \n",
       "computer  0.094343  0.291339  \n",
       "comp_stu  0.194806 -0.251007  \n",
       "expn_stu  0.314484 -0.071396  \n",
       "str      -0.232194  0.187642  \n",
       "avginc    1.000000 -0.307419  \n",
       "el_pct   -0.307419  1.000000  "
      ]
     },
     "execution_count": 50,
     "metadata": {},
     "output_type": "execute_result"
    }
   ],
   "source": [
    "#binary analysis\n",
    "#correlation of all variables\n",
    "variables=[ 'testscr',\n",
    "    #'enrl_tot',\n",
    " #'teachers',\n",
    " 'calw_pct',\n",
    " #'meal_pct',\n",
    " 'computer',\n",
    " 'comp_stu',\n",
    " 'expn_stu',\n",
    " 'str',\n",
    " 'avginc',\n",
    " 'el_pct',\n",
    " #'read_scr',\n",
    "# 'math_scr'\n",
    "          ]\n",
    "corr_matrix=data[variables].corr()\n",
    "corr_matrix\n",
    "#tryout different options and demonstrate it in your report\n",
    "# We end up with 7 predictors\n",
    "#'testscr','calw_pct','computer','comp_stu','expn_stu','str','avginc','el_pct',\n"
   ]
  },
  {
   "cell_type": "code",
   "execution_count": 51,
   "id": "transsexual-amsterdam",
   "metadata": {},
   "outputs": [
    {
     "data": {
      "image/png": "[encoded data removed]",
      "text/plain": [
       "<Figure size 432x288 with 2 Axes>"
      ]
     },
     "metadata": {},
     "output_type": "display_data"
    }
   ],
   "source": [
    "sm.graphics.plot_corr(corr_matrix, xnames=variables)\n",
    "plt.show()"
   ]
  },
  {
   "cell_type": "code",
   "execution_count": 52,
   "id": "documented-boston",
   "metadata": {},
   "outputs": [
    {
     "data": {
      "text/plain": [
       "<AxesSubplot:xlabel='str', ylabel='testscr'>"
      ]
     },
     "execution_count": 52,
     "metadata": {},
     "output_type": "execute_result"
    },
    {
     "data": {
      "image/png": "[encoded data removed]",
      "text/plain": [
       "<Figure size 432x288 with 1 Axes>"
      ]
     },
     "metadata": {},
     "output_type": "display_data"
    }
   ],
   "source": [
    "#run regression of class size and test scores\n",
    "# Assumption 1: linearity\n",
    "#p = sns.pairplot(train, x_vars=['str'], y_vars='testscr', size=4, aspect=1)\n",
    "sns.regplot(train['str'], train['testscr'], lowess=True)\n",
    "#By looking at the plots we can see that with the test score and class size are not linear\n",
    "# Therefore, linear regression might not be a good fit for the model"
   ]
  },
  {
   "cell_type": "code",
   "execution_count": 53,
   "id": "worst-smoke",
   "metadata": {},
   "outputs": [],
   "source": [
    "from sklearn.model_selection import train_test_split \n",
    "from sklearn.linear_model import LinearRegression\n",
    "from sklearn import metrics\n",
    "%matplotlib inline\n",
    "#choose the variable to run regression\n",
    "x = train['str'].values.reshape(-1,1)\n",
    "y = train['testscr'].values.reshape(-1,1)"
   ]
  },
  {
   "cell_type": "code",
   "execution_count": 54,
   "id": "aggregate-summit",
   "metadata": {},
   "outputs": [],
   "source": [
    "from sklearn.preprocessing import StandardScaler\n",
    "sc = StandardScaler()\n",
    "X = sc.fit_transform(x)"
   ]
  },
  {
   "cell_type": "code",
   "execution_count": 55,
   "id": "regional-arbor",
   "metadata": {},
   "outputs": [],
   "source": [
    "#split test and train set, in here 20% is the test set--you can explore different split(0.3)\n",
    "X_train, X_test, y_train, y_test = train_test_split(X, y, test_size=0.2, random_state=0)"
   ]
  },
  {
   "cell_type": "code",
   "execution_count": 56,
   "id": "muslim-guide",
   "metadata": {},
   "outputs": [],
   "source": [
    "from sklearn.metrics import mean_absolute_error\n",
    "from sklearn.metrics import mean_squared_error\n",
    "from sklearn.metrics import r2_score\n",
    "from sklearn import linear_model\n",
    "\n",
    "regr = linear_model.LinearRegression()\n",
    "regr.fit(X_train,y_train)\n",
    "y_pred = regr.predict(X_train)"
   ]
  },
  {
   "cell_type": "code",
   "execution_count": 57,
   "id": "cardiac-calcium",
   "metadata": {},
   "outputs": [
    {
     "name": "stdout",
     "output_type": "stream",
     "text": [
      "R squared: 0.02019642279952638\n"
     ]
    }
   ],
   "source": [
    "print(\"R squared: {}\".format(r2_score(y_true=y_train,y_pred=y_pred)))"
   ]
  },
  {
   "cell_type": "code",
   "execution_count": 58,
   "id": "peripheral-gabriel",
   "metadata": {},
   "outputs": [
    {
     "name": "stdout",
     "output_type": "stream",
     "text": [
      "Mean of Residuals 2.4141992566366337e-14\n"
     ]
    }
   ],
   "source": [
    "#Residuals as we know are the differences between the true value and the predicted value. \n",
    "#One of the assumptions of linear regression is that the mean of the residuals should be zero.\n",
    "\n",
    "residuals = y_train-y_pred\n",
    "mean_residuals = np.mean(residuals)\n",
    "print(\"Mean of Residuals {}\".format(mean_residuals))\n",
    "#very close to zero so all good here\n",
    "\n"
   ]
  },
  {
   "cell_type": "code",
   "execution_count": 59,
   "id": "direct-personality",
   "metadata": {},
   "outputs": [
    {
     "data": {
      "image/png": "[encoded data removed]",
      "text/plain": [
       "<Figure size 432x288 with 1 Axes>"
      ]
     },
     "metadata": {
      "needs_background": "light"
     },
     "output_type": "display_data"
    }
   ],
   "source": [
    "#homoscedasticity\n",
    "plt.scatter(np.array(y_pred),np.array(residuals))\n",
    "\n",
    "plt.xlabel('y_pred/predicted values')\n",
    "plt.ylabel('Residuals')\n",
    "plt.ylim(-50,60)\n",
    "plt.xlim(640,660)\n",
    "p = sns.lineplot([0,660],[0,0],color='blue')\n",
    "p = plt.title('Residuals vs fitted values plot for homoscedasticity check')"
   ]
  },
  {
   "cell_type": "code",
   "execution_count": 60,
   "id": "aging-winter",
   "metadata": {},
   "outputs": [
    {
     "data": {
      "text/plain": [
       "[('F statistic', 0.9628062900043808), ('p-value', 0.5847929084862062)]"
      ]
     },
     "execution_count": 60,
     "metadata": {},
     "output_type": "execute_result"
    }
   ],
   "source": [
    "#Goldfeld Quandt Test\n",
    "#Checking heteroscedasticity : Using Goldfeld Quandt we test for heteroscedasticity.\n",
    "\n",
    "#Null Hypothesis: Error terms are homoscedastic\n",
    "#Alternative Hypothesis: Error terms are heteroscedastic.\n",
    "#Since p value is more than 0.05 in Goldfeld Quandt Test, \n",
    "#we can't reject it's null hypothesis that error terms are homoscedastic.\n",
    "import statsmodels.stats.api as sms\n",
    "from statsmodels.compat import lzip\n",
    "name = ['F statistic', 'p-value']\n",
    "test = sms.het_goldfeldquandt(residuals, X_train)\n",
    "lzip(name, test)"
   ]
  },
  {
   "cell_type": "code",
   "execution_count": 61,
   "id": "relevant-military",
   "metadata": {},
   "outputs": [
    {
     "data": {
      "image/png": "[encoded data removed]",
      "text/plain": [
       "<Figure size 432x288 with 1 Axes>"
      ]
     },
     "metadata": {
      "needs_background": "light"
     },
     "output_type": "display_data"
    }
   ],
   "source": [
    "#Normality of the residuals\n",
    "p = sns.distplot(residuals,kde=True)\n",
    "p = plt.title('Normality of error terms/residuals')"
   ]
  },
  {
   "cell_type": "code",
   "execution_count": 62,
   "id": "precise-dietary",
   "metadata": {},
   "outputs": [
    {
     "data": {
      "image/png": "[encoded data removed]",
      "text/plain": [
       "<Figure size 720x360 with 1 Axes>"
      ]
     },
     "metadata": {
      "needs_background": "light"
     },
     "output_type": "display_data"
    }
   ],
   "source": [
    "#There should not be autocorrelation in the data so the error terms should not form any pattern\n",
    "plt.figure(figsize=(10,5))\n",
    "plt.scatter(np.array(y_pred),np.array(residuals))\n",
    "#p = plt.lineplot(y_pred,residuals,marker='o',color='blue')\n",
    "plt.xlabel('y_pred/predicted values')\n",
    "plt.ylabel('Residuals')\n",
    "plt.ylim(-50,60)\n",
    "plt.xlim(640,660)\n",
    "p = sns.lineplot([0,660],[0,0],color='blue')\n",
    "p = plt.title('Residuals vs fitted values plot for autocorrelation check')"
   ]
  },
  {
   "cell_type": "code",
   "execution_count": 63,
   "id": "hollow-adaptation",
   "metadata": {},
   "outputs": [
    {
     "data": {
      "text/plain": [
       "0.5338641093606987"
      ]
     },
     "execution_count": 63,
     "metadata": {},
     "output_type": "execute_result"
    }
   ],
   "source": [
    "#Ljungbox test\n",
    "from statsmodels.stats import diagnostic as diag\n",
    "min(diag.acorr_ljungbox(residuals , lags = 40)[1])\n",
    "\n",
    "#Null Hypothesis: Autocorrelation is absent.\n",
    "#Alternative Hypothesis: Autocorrelation is present.\n",
    "#Since p value is greater than 0.05 \n",
    "#we fail to reject the null hypothesis."
   ]
  },
  {
   "cell_type": "code",
   "execution_count": 64,
   "id": "related-contrary",
   "metadata": {},
   "outputs": [],
   "source": [
    "#summary which assumptions are violated, which are not\n",
    "#参考：https://www.kaggle.com/shrutimechlearn/step-by-step-assumptions-linear-regression"
   ]
  },
  {
   "cell_type": "code",
   "execution_count": 65,
   "id": "imperial-practitioner",
   "metadata": {},
   "outputs": [
    {
     "name": "stdout",
     "output_type": "stream",
     "text": [
      "                            OLS Regression Results                            \n",
      "==============================================================================\n",
      "Dep. Variable:                testscr   R-squared:                       0.038\n",
      "Model:                            OLS   Adj. R-squared:                  0.035\n",
      "Method:                 Least Squares   F-statistic:                     12.84\n",
      "Date:                Mon, 07 Jun 2021   Prob (F-statistic):           0.000391\n",
      "Time:                        15:24:23   Log-Likelihood:                -1399.0\n",
      "No. Observations:                 324   AIC:                             2802.\n",
      "Df Residuals:                     322   BIC:                             2810.\n",
      "Df Model:                           1                                         \n",
      "Covariance Type:            nonrobust                                         \n",
      "==============================================================================\n",
      "                 coef    std err          t      P>|t|      [0.025      0.975]\n",
      "------------------------------------------------------------------------------\n",
      "Intercept    691.7624     10.513     65.799      0.000     671.079     712.446\n",
      "str           -1.9098      0.533     -3.584      0.000      -2.958      -0.861\n",
      "==============================================================================\n",
      "Omnibus:                        3.315   Durbin-Watson:                   2.269\n",
      "Prob(Omnibus):                  0.191   Jarque-Bera (JB):                2.557\n",
      "Skew:                          -0.075   Prob(JB):                        0.279\n",
      "Kurtosis:                       2.591   Cond. No.                         206.\n",
      "==============================================================================\n",
      "\n",
      "Notes:\n",
      "[1] Standard Errors assume that the covariance matrix of the errors is correctly specified.\n"
     ]
    }
   ],
   "source": [
    "model = smf.ols(formula='testscr ~ str', data=train)\n",
    "reg = model.fit()\n",
    "print(reg.summary())\n",
    "#based on r-square and p value, we know it is a very bad model"
   ]
  },
  {
   "cell_type": "code",
   "execution_count": 66,
   "id": "announced-yorkshire",
   "metadata": {},
   "outputs": [],
   "source": [
    "#resid=reg.resid\n",
    "#sns.regplot('testscr', resid, data=train, fit_reg=False)\n",
    "#plt.ylabel('Residuals')\n",
    "#plt.show()"
   ]
  },
  {
   "cell_type": "code",
   "execution_count": 67,
   "id": "exclusive-banner",
   "metadata": {},
   "outputs": [
    {
     "name": "stdout",
     "output_type": "stream",
     "text": [
      "                            OLS Regression Results                            \n",
      "==============================================================================\n",
      "Dep. Variable:                testscr   R-squared:                       0.791\n",
      "Model:                            OLS   Adj. R-squared:                  0.785\n",
      "Method:                 Least Squares   F-statistic:                     148.7\n",
      "Date:                Mon, 07 Jun 2021   Prob (F-statistic):          3.78e-102\n",
      "Time:                        15:24:24   Log-Likelihood:                -1152.0\n",
      "No. Observations:                 324   AIC:                             2322.\n",
      "Df Residuals:                     315   BIC:                             2356.\n",
      "Df Model:                           8                                         \n",
      "Covariance Type:            nonrobust                                         \n",
      "==============================================================================\n",
      "                 coef    std err          t      P>|t|      [0.025      0.975]\n",
      "------------------------------------------------------------------------------\n",
      "Intercept    661.5532     10.369     63.800      0.000     641.152     681.955\n",
      "str           -0.1585      0.330     -0.481      0.631      -0.807       0.490\n",
      "meal_pct      -0.3740      0.042     -8.911      0.000      -0.457      -0.291\n",
      "calw_pct      -0.0756      0.071     -1.061      0.290      -0.216       0.065\n",
      "computer      -0.0009      0.002     -0.575      0.566      -0.004       0.002\n",
      "comp_stu       7.4446      8.073      0.922      0.357      -8.438      23.328\n",
      "expn_stu       0.0013      0.001      1.288      0.199      -0.001       0.003\n",
      "avginc         0.6001      0.105      5.710      0.000       0.393       0.807\n",
      "el_pct        -0.1951      0.040     -4.818      0.000      -0.275      -0.115\n",
      "==============================================================================\n",
      "Omnibus:                        7.113   Durbin-Watson:                   2.027\n",
      "Prob(Omnibus):                  0.029   Jarque-Bera (JB):               10.705\n",
      "Skew:                          -0.095   Prob(JB):                      0.00474\n",
      "Kurtosis:                       3.870   Cond. No.                     1.17e+05\n",
      "==============================================================================\n",
      "\n",
      "Notes:\n",
      "[1] Standard Errors assume that the covariance matrix of the errors is correctly specified.\n",
      "[2] The condition number is large, 1.17e+05. This might indicate that there are\n",
      "strong multicollinearity or other numerical problems.\n"
     ]
    }
   ],
   "source": [
    "#run models\n",
    "formula = 'testscr ~ str + meal_pct +calw_pct+ computer+ comp_stu + expn_stu + avginc + el_pct'\n",
    "ols2 = smf.ols(formula=formula, data=train).fit()\n",
    "print(ols2.summary())\n",
    "resid = ols2.resid\n",
    "fitted = ols2.fittedvalues"
   ]
  },
  {
   "cell_type": "code",
   "execution_count": 68,
   "id": "official-optimization",
   "metadata": {},
   "outputs": [
    {
     "name": "stdout",
     "output_type": "stream",
     "text": [
      "[1.718836381721825, 5.545412695866735, 2.6999088825838147, 1.301944772658746, 1.1820234093717679, 1.876343702765528, 2.314541827262176, 2.488281937875674]\n"
     ]
    }
   ],
   "source": [
    "features= train[['str', 'meal_pct', 'calw_pct','computer','comp_stu', 'expn_stu', 'avginc', 'el_pct']]\n",
    "features=sm.add_constant(features)\n",
    "from statsmodels.stats.outliers_influence import variance_inflation_factor\n",
    "vif=[]\n",
    "for i in range(8):\n",
    "    vif.append(variance_inflation_factor(features.values,i+1))\n",
    "\n",
    "print(vif)\n",
    "#mealpct vif>5, should be eliminated"
   ]
  },
  {
   "cell_type": "code",
   "execution_count": 69,
   "id": "paperback-mission",
   "metadata": {
    "scrolled": false
   },
   "outputs": [
    {
     "name": "stdout",
     "output_type": "stream",
     "text": [
      "                            OLS Regression Results                            \n",
      "==============================================================================\n",
      "Dep. Variable:                testscr   R-squared:                       0.738\n",
      "Model:                            OLS   Adj. R-squared:                  0.732\n",
      "Method:                 Least Squares   F-statistic:                     127.0\n",
      "Date:                Mon, 07 Jun 2021   Prob (F-statistic):           6.25e-88\n",
      "Time:                        15:24:25   Log-Likelihood:                -1188.4\n",
      "No. Observations:                 324   AIC:                             2393.\n",
      "Df Residuals:                     316   BIC:                             2423.\n",
      "Df Model:                           7                                         \n",
      "Covariance Type:            nonrobust                                         \n",
      "==============================================================================\n",
      "                 coef    std err          t      P>|t|      [0.025      0.975]\n",
      "------------------------------------------------------------------------------\n",
      "Intercept    650.4769     11.501     56.560      0.000     627.849     673.104\n",
      "str           -0.2436      0.368     -0.662      0.509      -0.968       0.481\n",
      "calw_pct      -0.4890      0.060     -8.100      0.000      -0.608      -0.370\n",
      "computer       0.0016      0.002      0.915      0.361      -0.002       0.005\n",
      "comp_stu       1.5444      8.988      0.172      0.864     -16.140      19.229\n",
      "expn_stu       0.0011      0.001      0.941      0.347      -0.001       0.003\n",
      "avginc         1.0385      0.104     10.010      0.000       0.834       1.243\n",
      "el_pct        -0.4391      0.033    -13.183      0.000      -0.505      -0.374\n",
      "==============================================================================\n",
      "Omnibus:                       13.827   Durbin-Watson:                   2.013\n",
      "Prob(Omnibus):                  0.001   Jarque-Bera (JB):               19.182\n",
      "Skew:                          -0.334   Prob(JB):                     6.83e-05\n",
      "Kurtosis:                       3.987   Cond. No.                     1.16e+05\n",
      "==============================================================================\n",
      "\n",
      "Notes:\n",
      "[1] Standard Errors assume that the covariance matrix of the errors is correctly specified.\n",
      "[2] The condition number is large, 1.16e+05. This might indicate that there are\n",
      "strong multicollinearity or other numerical problems.\n",
      "rmse=  9.598524684531455\n"
     ]
    }
   ],
   "source": [
    "formula = 'testscr ~ str + calw_pct+ computer+ comp_stu + expn_stu + avginc + el_pct'\n",
    "ols3 = smf.ols(formula=formula, data=train).fit()\n",
    "print(ols3.summary())\n",
    "resid = ols3.resid\n",
    "fitted = ols3.fittedvalues\n",
    "#r-squared reduced, but str does not become more significant, so it might not be a big deal to include the variable\n",
    "\n",
    "rmse3=ols3.mse_resid**0.5\n",
    "print('rmse= ',rmse3)"
   ]
  },
  {
   "cell_type": "code",
   "execution_count": 86,
   "id": "expected-tradition",
   "metadata": {},
   "outputs": [
    {
     "ename": "TypeError",
     "evalue": "tuple indices must be integers or slices, not str",
     "output_type": "error",
     "traceback": [
      "\u001b[0;31m---------------------------------------------------------------------------\u001b[0m",
      "\u001b[0;31mTypeError\u001b[0m                                 Traceback (most recent call last)",
      "\u001b[0;32m<ipython-input-86-a21daff64f1f>\u001b[0m in \u001b[0;36m<module>\u001b[0;34m\u001b[0m\n\u001b[1;32m      5\u001b[0m \u001b[0;34m\u001b[0m\u001b[0m\n\u001b[1;32m      6\u001b[0m \u001b[0;34m\u001b[0m\u001b[0m\n\u001b[0;32m----> 7\u001b[0;31m \u001b[0mtest\u001b[0m\u001b[0;34m[\u001b[0m\u001b[0;34m'gr_calw'\u001b[0m\u001b[0;34m]\u001b[0m\u001b[0;34m=\u001b[0m\u001b[0mtest\u001b[0m\u001b[0;34m[\u001b[0m\u001b[0;34m'gr_span'\u001b[0m\u001b[0;34m]\u001b[0m\u001b[0;34m*\u001b[0m \u001b[0mtest\u001b[0m\u001b[0;34m[\u001b[0m\u001b[0;34m'calw_pct'\u001b[0m\u001b[0;34m]\u001b[0m\u001b[0;34m\u001b[0m\u001b[0;34m\u001b[0m\u001b[0m\n\u001b[0m\u001b[1;32m      8\u001b[0m \u001b[0mtest\u001b[0m\u001b[0;34m[\u001b[0m\u001b[0;34m'str_span'\u001b[0m\u001b[0;34m]\u001b[0m\u001b[0;34m=\u001b[0m\u001b[0mtest\u001b[0m\u001b[0;34m[\u001b[0m\u001b[0;34m'str'\u001b[0m\u001b[0;34m]\u001b[0m\u001b[0;34m*\u001b[0m \u001b[0mtest\u001b[0m\u001b[0;34m[\u001b[0m\u001b[0;34m'gr_span'\u001b[0m\u001b[0;34m]\u001b[0m\u001b[0;34m\u001b[0m\u001b[0;34m\u001b[0m\u001b[0m\n\u001b[1;32m      9\u001b[0m \u001b[0mtest\u001b[0m\u001b[0;34m[\u001b[0m\u001b[0;34m'gr_computer'\u001b[0m\u001b[0;34m]\u001b[0m\u001b[0;34m=\u001b[0m\u001b[0mtest\u001b[0m\u001b[0;34m[\u001b[0m\u001b[0;34m'gr_span'\u001b[0m\u001b[0;34m]\u001b[0m\u001b[0;34m*\u001b[0m \u001b[0mtest\u001b[0m\u001b[0;34m[\u001b[0m\u001b[0;34m'computer'\u001b[0m\u001b[0;34m]\u001b[0m\u001b[0;34m\u001b[0m\u001b[0;34m\u001b[0m\u001b[0m\n",
      "\u001b[0;31mTypeError\u001b[0m: tuple indices must be integers or slices, not str"
     ]
    }
   ],
   "source": [
    "train['gr_calw']=train['gr_span']* train['calw_pct']\n",
    "train['str_span']=train['str']* train['gr_span']\n",
    "train['gr_computer']=train['gr_span']* train['computer']\n",
    "\n",
    "\n",
    "\n",
    "# test['gr_calw']=test['gr_span']* test['calw_pct']\n",
    "# test['str_span']=test['str']* test['gr_span']\n",
    "# test['gr_computer']=test['gr_span']* test['computer']"
   ]
  },
  {
   "cell_type": "code",
   "execution_count": 71,
   "id": "endangered-basis",
   "metadata": {},
   "outputs": [
    {
     "name": "stdout",
     "output_type": "stream",
     "text": [
      "                            OLS Regression Results                            \n",
      "==============================================================================\n",
      "Dep. Variable:                testscr   R-squared:                       0.796\n",
      "Model:                            OLS   Adj. R-squared:                  0.790\n",
      "Method:                 Least Squares   F-statistic:                     122.3\n",
      "Date:                Mon, 07 Jun 2021   Prob (F-statistic):          8.62e-102\n",
      "Time:                        15:24:26   Log-Likelihood:                -1147.7\n",
      "No. Observations:                 324   AIC:                             2317.\n",
      "Df Residuals:                     313   BIC:                             2359.\n",
      "Df Model:                          10                                         \n",
      "Covariance Type:            nonrobust                                         \n",
      "==============================================================================\n",
      "                 coef    std err          t      P>|t|      [0.025      0.975]\n",
      "------------------------------------------------------------------------------\n",
      "Intercept    664.9775     10.369     64.130      0.000     644.575     685.380\n",
      "str            0.0323      0.334      0.097      0.923      -0.624       0.689\n",
      "meal_pct      -0.3626      0.042     -8.690      0.000      -0.445      -0.280\n",
      "calw_pct      -0.1210      0.129     -0.938      0.349      -0.375       0.133\n",
      "computer      -0.0008      0.002     -0.484      0.629      -0.004       0.002\n",
      "comp_stu       8.1440      8.007      1.017      0.310      -7.611      23.899\n",
      "expn_stu       0.0007      0.001      0.709      0.479      -0.001       0.003\n",
      "avginc         0.5801      0.104      5.561      0.000       0.375       0.785\n",
      "el_pct        -0.2116      0.040     -5.228      0.000      -0.291      -0.132\n",
      "gr_calw        0.0519      0.125      0.416      0.678      -0.194       0.298\n",
      "str_span      -0.2460      0.103     -2.381      0.018      -0.449      -0.043\n",
      "==============================================================================\n",
      "Omnibus:                        7.399   Durbin-Watson:                   2.069\n",
      "Prob(Omnibus):                  0.025   Jarque-Bera (JB):               12.043\n",
      "Skew:                          -0.022   Prob(JB):                      0.00243\n",
      "Kurtosis:                       3.943   Cond. No.                     1.18e+05\n",
      "==============================================================================\n",
      "\n",
      "Notes:\n",
      "[1] Standard Errors assume that the covariance matrix of the errors is correctly specified.\n",
      "[2] The condition number is large, 1.18e+05. This might indicate that there are\n",
      "strong multicollinearity or other numerical problems.\n",
      "rmse=  8.504061922376227\n"
     ]
    }
   ],
   "source": [
    "formula = 'testscr ~ str + meal_pct +calw_pct+ computer+ comp_stu + expn_stu + avginc + el_pct+gr_calw+str_span'\n",
    "ols2 = smf.ols(formula=formula, data=train).fit()\n",
    "print(ols2.summary())\n",
    "resid2 = ols2.resid\n",
    "fitted2 = ols2.fittedvalues\n",
    "\n",
    "#best\n",
    "\n",
    "rmse3=ols2.mse_resid**0.5\n",
    "print('rmse= ',rmse3)"
   ]
  },
  {
   "cell_type": "code",
   "execution_count": 72,
   "id": "charming-yorkshire",
   "metadata": {},
   "outputs": [
    {
     "data": {
      "text/plain": [
       "Text(0.5, 0, 'Index')"
      ]
     },
     "execution_count": 72,
     "metadata": {},
     "output_type": "execute_result"
    },
    {
     "data": {
      "image/png": "[encoded data removed]",
      "text/plain": [
       "<Figure size 1080x720 with 4 Axes>"
      ]
     },
     "metadata": {
      "needs_background": "light"
     },
     "output_type": "display_data"
    }
   ],
   "source": [
    "influence=ols2.get_influence()\n",
    "hat = influence.hat_matrix_diag\n",
    "resid= influence.resid_studentized_external \n",
    "d= influence.cooks_distance[0]\n",
    "dffits= influence.dffits[0]\n",
    "fig, ax= plt.subplots(2, 2, figsize=(15, 10)) \n",
    "ax[0,0].scatter(np.arange(0,len(hat)), hat, s=25)\n",
    "ax[0,0].set_title('Hat values') \n",
    "ax[0,1].scatter(np.arange(0,len(resid)), resid, s=25)\n",
    "ax[0,1].set_title('Studentised residuals')\n",
    "ax[1,0].scatter(np.arange(0,len(d)), d, s=25) \n",
    "ax[1,0].set_title('Cook\\'s distance') \n",
    "ax[1,0].set_xlabel('Index')\n",
    "ax[1,1].scatter(np.arange(0,len(dffits)), dffits, s=25) \n",
    "ax[1,1].set_title('DFFITS') \n",
    "ax[1,1].set_xlabel('Index')"
   ]
  },
  {
   "cell_type": "code",
   "execution_count": 73,
   "id": "mighty-variety",
   "metadata": {},
   "outputs": [
    {
     "data": {
      "text/plain": [
       "Text(0.5, 1.0, 'Normal Q-Q plot for the residuals')"
      ]
     },
     "execution_count": 73,
     "metadata": {},
     "output_type": "execute_result"
    },
    {
     "data": {
      "image/png": "[encoded data removed]",
      "text/plain": [
       "<Figure size 1008x720 with 4 Axes>"
      ]
     },
     "metadata": {
      "needs_background": "light"
     },
     "output_type": "display_data"
    }
   ],
   "source": [
    "pred3_1=ols2.predict(train)\n",
    "residuals=ols2.resid\n",
    "\n",
    "fitted=pred3_1\n",
    "\n",
    "fig, ax= plt.subplots(2,2, figsize=(14,10))\n",
    "sns.regplot(fitted, residuals, fit_reg=False, ax=ax[0,0], scatter_kws={'alpha':0.5}) \n",
    "ax[0,0].set_xlabel('predicteded values')\n",
    "ax[0,0].set_ylabel('Residuals')\n",
    "ax[0,0].set_title('predicted values against residuals', fontsize=12)\n",
    "sns.regplot(fitted, residuals**2, fit_reg=False, ax=ax[0,1]) \n",
    "ax[0,1].set_xlabel('predicteded values') \n",
    "ax[0,1].set_ylabel('Squared residuals')\n",
    "ax[0,1].set_title('predicteded values vs squared residuals')\n",
    "#sns.boxplot(residuals, orient='h', ax=ax[0,1]) #ax[0,1].set_title('Box plot for the residuals', fontsize=12)\n",
    "sns.distplot(residuals, ax=ax[1,0], hist_kws={'alpha': 0.9}, kde_kws={'color': 'black', 'alpha': 0.6}) \n",
    "ax[1,0].set(title='Residual histogram')\n",
    "pp = sm.ProbPlot(residuals, fit=True)\n",
    "qq = pp.qqplot(color=sns.color_palette('Blues')[-1], alpha=0.8, ax=ax[1,1]) \n",
    "a=ax[1,1].get_xlim()[0]\n",
    "b=ax[1,1].get_xlim()[1]\n",
    "ax[1,1].plot([a,b],[a,b], color='black', alpha=0.6)\n",
    "ax[1,1].set_xlim(-6,6)\n",
    "ax[1,1].set_ylim(-6,6)\n",
    "ax[1,1].set_title('Normal Q-Q plot for the residuals')"
   ]
  },
  {
   "cell_type": "code",
   "execution_count": 74,
   "id": "outside-sound",
   "metadata": {},
   "outputs": [
    {
     "data": {
      "text/plain": [
       "<matplotlib.lines.Line2D at 0x7f82d89896a0>"
      ]
     },
     "execution_count": 74,
     "metadata": {},
     "output_type": "execute_result"
    },
    {
     "data": {
      "image/png": "[encoded data removed]",
      "text/plain": [
       "<Figure size 432x288 with 1 Axes>"
      ]
     },
     "metadata": {
      "needs_background": "light"
     },
     "output_type": "display_data"
    }
   ],
   "source": [
    "fig,ax = plt.subplots()\n",
    "sns.regplot(train['str'],residuals,lowess=True,ax=ax,scatter_kws={'s':35,'alpha':0.6})\n",
    "ax.set_xlabel('str ',{'fontsize':15})\n",
    "ax.set_ylabel('Residuals ',{'fontsize':15})\n",
    "ax.set_title('Predictor against residuals',{'fontsize':15})\n",
    "plt.axhline(color='Black',alpha=0.3,linestyle='--')"
   ]
  },
  {
   "cell_type": "code",
   "execution_count": 75,
   "id": "rental-malta",
   "metadata": {},
   "outputs": [
    {
     "name": "stdout",
     "output_type": "stream",
     "text": [
      "[1.798845245260109, 5.594243401122456, 9.035095862078228, 1.3465580545785405, 1.1871450429633559, 1.9589900304514638, 2.3276214619402427, 2.5391156047309633, 8.718025968188973, 2.4158034933039816]\n"
     ]
    }
   ],
   "source": [
    "features= train[['str' , 'meal_pct' ,'calw_pct' ,'computer' ,'comp_stu','expn_stu','avginc','el_pct','gr_calw','str_span']]\n",
    "features=sm.add_constant(features)\n",
    "from statsmodels.stats.outliers_influence import variance_inflation_factor\n",
    "vif=[]\n",
    "for i in range(10):\n",
    "    vif.append(variance_inflation_factor(features.values,i+1))\n",
    "\n",
    "print(vif)"
   ]
  },
  {
   "cell_type": "code",
   "execution_count": 76,
   "id": "reported-thailand",
   "metadata": {},
   "outputs": [
    {
     "data": {
      "text/plain": [
       "3.6921444164618316"
      ]
     },
     "execution_count": 76,
     "metadata": {},
     "output_type": "execute_result"
    }
   ],
   "source": [
    "sum(vif)/len(vif)"
   ]
  },
  {
   "cell_type": "code",
   "execution_count": 77,
   "id": "talented-canada",
   "metadata": {},
   "outputs": [
    {
     "name": "stdout",
     "output_type": "stream",
     "text": [
      "                            OLS Regression Results                            \n",
      "==============================================================================\n",
      "Dep. Variable:                testscr   R-squared:                       0.442\n",
      "Model:                            OLS   Adj. R-squared:                  0.433\n",
      "Method:                 Least Squares   F-statistic:                     50.40\n",
      "Date:                Mon, 07 Jun 2021   Prob (F-statistic):           2.28e-38\n",
      "Time:                        15:24:28   Log-Likelihood:                -1310.8\n",
      "No. Observations:                 324   AIC:                             2634.\n",
      "Df Residuals:                     318   BIC:                             2656.\n",
      "Df Model:                           5                                         \n",
      "Covariance Type:            nonrobust                                         \n",
      "===============================================================================\n",
      "                  coef    std err          t      P>|t|      [0.025      0.975]\n",
      "-------------------------------------------------------------------------------\n",
      "Intercept     661.7713     16.783     39.430      0.000     628.751     694.792\n",
      "str            -0.6510      0.531     -1.226      0.221      -1.696       0.394\n",
      "str_span       -0.2401      0.126     -1.913      0.057      -0.487       0.007\n",
      "gr_computer    -0.0005      0.003     -0.193      0.847      -0.005       0.004\n",
      "expn_stu        0.0044      0.002      2.741      0.006       0.001       0.008\n",
      "calw_pct       -1.0359      0.071    -14.501      0.000      -1.176      -0.895\n",
      "==============================================================================\n",
      "Omnibus:                       21.247   Durbin-Watson:                   2.214\n",
      "Prob(Omnibus):                  0.000   Jarque-Bera (JB):               24.211\n",
      "Skew:                          -0.585   Prob(JB):                     5.53e-06\n",
      "Kurtosis:                       3.650   Cond. No.                     1.16e+05\n",
      "==============================================================================\n",
      "\n",
      "Notes:\n",
      "[1] Standard Errors assume that the covariance matrix of the errors is correctly specified.\n",
      "[2] The condition number is large, 1.16e+05. This might indicate that there are\n",
      "strong multicollinearity or other numerical problems.\n"
     ]
    }
   ],
   "source": [
    "formula = 'testscr ~ str + str_span+gr_computer+expn_stu+calw_pct'\n",
    "ols4 = smf.ols(formula=formula, data=train).fit()\n",
    "print(ols4.summary())\n",
    "resid4 = ols4.resid\n",
    "fitted4 = ols4.fittedvalues"
   ]
  },
  {
   "cell_type": "code",
   "execution_count": 78,
   "id": "welcome-print",
   "metadata": {},
   "outputs": [
    {
     "name": "stdout",
     "output_type": "stream",
     "text": [
      "                            OLS Regression Results                            \n",
      "==============================================================================\n",
      "Dep. Variable:                testscr   R-squared:                       0.099\n",
      "Model:                            OLS   Adj. R-squared:                  0.084\n",
      "Method:                 Least Squares   F-statistic:                     6.958\n",
      "Date:                Mon, 07 Jun 2021   Prob (F-statistic):           3.48e-06\n",
      "Time:                        15:24:28   Log-Likelihood:                -1388.5\n",
      "No. Observations:                 324   AIC:                             2789.\n",
      "Df Residuals:                     318   BIC:                             2812.\n",
      "Df Model:                           5                                         \n",
      "Covariance Type:            nonrobust                                         \n",
      "===============================================================================\n",
      "                  coef    std err          t      P>|t|      [0.025      0.975]\n",
      "-------------------------------------------------------------------------------\n",
      "Intercept     667.0501     21.428     31.130      0.000     624.891     709.209\n",
      "str            -0.6827      0.681     -1.002      0.317      -2.023       0.658\n",
      "str_span       -0.5048      0.158     -3.192      0.002      -0.816      -0.194\n",
      "gr_computer    -0.0003      0.003     -0.084      0.933      -0.007       0.006\n",
      "expn_stu        0.0005      0.002      0.244      0.808      -0.004       0.005\n",
      "comp_stu       48.3860     16.163      2.994      0.003      16.586      80.186\n",
      "==============================================================================\n",
      "Omnibus:                        3.269   Durbin-Watson:                   2.290\n",
      "Prob(Omnibus):                  0.195   Jarque-Bera (JB):                2.594\n",
      "Skew:                          -0.091   Prob(JB):                        0.273\n",
      "Kurtosis:                       2.601   Cond. No.                     1.17e+05\n",
      "==============================================================================\n",
      "\n",
      "Notes:\n",
      "[1] Standard Errors assume that the covariance matrix of the errors is correctly specified.\n",
      "[2] The condition number is large, 1.17e+05. This might indicate that there are\n",
      "strong multicollinearity or other numerical problems.\n"
     ]
    }
   ],
   "source": [
    "formula = 'testscr ~ str + str_span+gr_computer+expn_stu+comp_stu'\n",
    "ols5 = smf.ols(formula=formula, data=train).fit()\n",
    "print(ols5.summary())\n",
    "resid5 = ols5.resid\n",
    "fitted5 = ols5.fittedvalues"
   ]
  },
  {
   "cell_type": "code",
   "execution_count": 79,
   "id": "historical-utility",
   "metadata": {},
   "outputs": [
    {
     "name": "stdout",
     "output_type": "stream",
     "text": [
      "                            OLS Regression Results                            \n",
      "==============================================================================\n",
      "Dep. Variable:                testscr   R-squared:                       0.511\n",
      "Model:                            OLS   Adj. R-squared:                  0.502\n",
      "Method:                 Least Squares   F-statistic:                     55.22\n",
      "Date:                Mon, 07 Jun 2021   Prob (F-statistic):           1.90e-46\n",
      "Time:                        15:24:28   Log-Likelihood:                -1289.4\n",
      "No. Observations:                 324   AIC:                             2593.\n",
      "Df Residuals:                     317   BIC:                             2619.\n",
      "Df Model:                           6                                         \n",
      "Covariance Type:            nonrobust                                         \n",
      "=======================================================================================\n",
      "                          coef    std err          t      P>|t|      [0.025      0.975]\n",
      "---------------------------------------------------------------------------------------\n",
      "Intercept             671.9260     15.773     42.600      0.000     640.893     702.959\n",
      "str                     0.0705      0.502      0.140      0.888      -0.916       1.057\n",
      "str_span               -0.7940      0.119     -6.658      0.000      -1.029      -0.559\n",
      "gr_computer             0.0113      0.002      4.584      0.000       0.006       0.016\n",
      "expn_stu                0.0008      0.001      0.557      0.578      -0.002       0.004\n",
      "el_pct                 -1.0002      0.116     -8.593      0.000      -1.229      -0.771\n",
      "np.power(el_pct, 2)     0.0053      0.002      2.944      0.003       0.002       0.009\n",
      "==============================================================================\n",
      "Omnibus:                        0.459   Durbin-Watson:                   2.074\n",
      "Prob(Omnibus):                  0.795   Jarque-Bera (JB):                0.365\n",
      "Skew:                           0.081   Prob(JB):                        0.833\n",
      "Kurtosis:                       3.029   Cond. No.                     1.17e+05\n",
      "==============================================================================\n",
      "\n",
      "Notes:\n",
      "[1] Standard Errors assume that the covariance matrix of the errors is correctly specified.\n",
      "[2] The condition number is large, 1.17e+05. This might indicate that there are\n",
      "strong multicollinearity or other numerical problems.\n"
     ]
    }
   ],
   "source": [
    "formula = 'testscr ~ str + str_span+gr_computer+expn_stu+el_pct+np.power(el_pct, 2)'\n",
    "ols6 = smf.ols(formula=formula, data=train).fit()\n",
    "print(ols6.summary())\n",
    "resid6 = ols6.resid\n",
    "fitted6 = ols6.fittedvalues"
   ]
  },
  {
   "cell_type": "code",
   "execution_count": 80,
   "id": "tested-checklist",
   "metadata": {},
   "outputs": [
    {
     "name": "stdout",
     "output_type": "stream",
     "text": [
      "                            OLS Regression Results                            \n",
      "==============================================================================\n",
      "Dep. Variable:                testscr   R-squared:                       0.680\n",
      "Model:                            OLS   Adj. R-squared:                  0.673\n",
      "Method:                 Least Squares   F-statistic:                     96.12\n",
      "Date:                Mon, 07 Jun 2021   Prob (F-statistic):           1.97e-74\n",
      "Time:                        15:24:29   Log-Likelihood:                -1220.5\n",
      "No. Observations:                 324   AIC:                             2457.\n",
      "Df Residuals:                     316   BIC:                             2487.\n",
      "Df Model:                           7                                         \n",
      "Covariance Type:            nonrobust                                         \n",
      "=======================================================================================\n",
      "                          coef    std err          t      P>|t|      [0.025      0.975]\n",
      "---------------------------------------------------------------------------------------\n",
      "Intercept             663.2640     12.789     51.862      0.000     638.102     688.426\n",
      "str                     0.0681      0.406      0.168      0.867      -0.731       0.867\n",
      "str_span               -0.5434      0.098     -5.517      0.000      -0.737      -0.350\n",
      "gr_computer             0.0083      0.002      4.127      0.000       0.004       0.012\n",
      "expn_stu                0.0031      0.001      2.550      0.011       0.001       0.006\n",
      "el_pct                 -0.7510      0.096     -7.807      0.000      -0.940      -0.562\n",
      "np.power(el_pct, 2)     0.0036      0.001      2.459      0.014       0.001       0.006\n",
      "calw_pct               -0.7443      0.058    -12.942      0.000      -0.857      -0.631\n",
      "==============================================================================\n",
      "Omnibus:                        5.831   Durbin-Watson:                   2.103\n",
      "Prob(Omnibus):                  0.054   Jarque-Bera (JB):                6.970\n",
      "Skew:                          -0.168   Prob(JB):                       0.0307\n",
      "Kurtosis:                       3.635   Cond. No.                     1.17e+05\n",
      "==============================================================================\n",
      "\n",
      "Notes:\n",
      "[1] Standard Errors assume that the covariance matrix of the errors is correctly specified.\n",
      "[2] The condition number is large, 1.17e+05. This might indicate that there are\n",
      "strong multicollinearity or other numerical problems.\n",
      "rmse=  10.597345454768247\n"
     ]
    }
   ],
   "source": [
    "formula = 'testscr ~ str + str_span+gr_computer+expn_stu+el_pct+np.power(el_pct, 2)+calw_pct'\n",
    "ols7 = smf.ols(formula=formula, data=train).fit()\n",
    "print(ols7.summary())\n",
    "resid7 = ols7.resid\n",
    "fitted7 = ols7.fittedvalues\n",
    "\n",
    "\n",
    "rmse3=ols7.mse_resid**0.5\n",
    "print('rmse= ',rmse3)"
   ]
  },
  {
   "cell_type": "code",
   "execution_count": 81,
   "id": "fifteen-miller",
   "metadata": {},
   "outputs": [
    {
     "name": "stdout",
     "output_type": "stream",
     "text": [
      "                            OLS Regression Results                            \n",
      "==============================================================================\n",
      "Dep. Variable:                testscr   R-squared:                       0.706\n",
      "Model:                            OLS   Adj. R-squared:                  0.699\n",
      "Method:                 Least Squares   F-statistic:                     108.3\n",
      "Date:                Mon, 07 Jun 2021   Prob (F-statistic):           4.60e-80\n",
      "Time:                        15:24:29   Log-Likelihood:                -1207.1\n",
      "No. Observations:                 324   AIC:                             2430.\n",
      "Df Residuals:                     316   BIC:                             2461.\n",
      "Df Model:                           7                                         \n",
      "Covariance Type:            nonrobust                                         \n",
      "=======================================================================================\n",
      "                          coef    std err          t      P>|t|      [0.025      0.975]\n",
      "---------------------------------------------------------------------------------------\n",
      "Intercept             660.7813     12.279     53.815      0.000     636.623     684.940\n",
      "str                     0.0215      0.390      0.055      0.956      -0.745       0.788\n",
      "str_span               -0.4025      0.097     -4.169      0.000      -0.592      -0.213\n",
      "gr_computer             0.0023      0.002      1.145      0.253      -0.002       0.006\n",
      "expn_stu               -0.0023      0.001     -1.937      0.054      -0.005    3.54e-05\n",
      "el_pct                 -0.7725      0.092     -8.416      0.000      -0.953      -0.592\n",
      "np.power(el_pct, 2)     0.0046      0.001      3.280      0.001       0.002       0.007\n",
      "avginc                  1.3902      0.096     14.462      0.000       1.201       1.579\n",
      "==============================================================================\n",
      "Omnibus:                        2.801   Durbin-Watson:                   2.143\n",
      "Prob(Omnibus):                  0.246   Jarque-Bera (JB):                2.831\n",
      "Skew:                          -0.091   Prob(JB):                        0.243\n",
      "Kurtosis:                       3.421   Cond. No.                     1.17e+05\n",
      "==============================================================================\n",
      "\n",
      "Notes:\n",
      "[1] Standard Errors assume that the covariance matrix of the errors is correctly specified.\n",
      "[2] The condition number is large, 1.17e+05. This might indicate that there are\n",
      "strong multicollinearity or other numerical problems.\n",
      "rmse=  10.168404921053396\n"
     ]
    }
   ],
   "source": [
    "formula = 'testscr ~ str + str_span+gr_computer+expn_stu+el_pct+np.power(el_pct, 2)+avginc'\n",
    "ols8 = smf.ols(formula=formula, data=train).fit()\n",
    "print(ols8.summary())\n",
    "resid8 = ols8.resid\n",
    "fitted8 = ols8.fittedvalues\n",
    "\n",
    "rmse3=ols8.mse_resid**0.5\n",
    "print('rmse= ',rmse3)"
   ]
  },
  {
   "cell_type": "code",
   "execution_count": 82,
   "id": "regulated-taiwan",
   "metadata": {},
   "outputs": [
    {
     "name": "stdout",
     "output_type": "stream",
     "text": [
      "                            OLS Regression Results                            \n",
      "==============================================================================\n",
      "Dep. Variable:                testscr   R-squared:                       0.511\n",
      "Model:                            OLS   Adj. R-squared:                  0.502\n",
      "Method:                 Least Squares   F-statistic:                     55.22\n",
      "Date:                Mon, 07 Jun 2021   Prob (F-statistic):           1.90e-46\n",
      "Time:                        15:24:30   Log-Likelihood:                -1289.4\n",
      "No. Observations:                 324   AIC:                             2593.\n",
      "Df Residuals:                     317   BIC:                             2619.\n",
      "Df Model:                           6                                         \n",
      "Covariance Type:            nonrobust                                         \n",
      "=======================================================================================\n",
      "                          coef    std err          t      P>|t|      [0.025      0.975]\n",
      "---------------------------------------------------------------------------------------\n",
      "Intercept             671.9260     15.773     42.600      0.000     640.893     702.959\n",
      "str                     0.0705      0.502      0.140      0.888      -0.916       1.057\n",
      "str_span               -0.7940      0.119     -6.658      0.000      -1.029      -0.559\n",
      "gr_computer             0.0113      0.002      4.584      0.000       0.006       0.016\n",
      "expn_stu                0.0008      0.001      0.557      0.578      -0.002       0.004\n",
      "el_pct                 -1.0002      0.116     -8.593      0.000      -1.229      -0.771\n",
      "np.power(el_pct, 2)     0.0053      0.002      2.944      0.003       0.002       0.009\n",
      "==============================================================================\n",
      "Omnibus:                        0.459   Durbin-Watson:                   2.074\n",
      "Prob(Omnibus):                  0.795   Jarque-Bera (JB):                0.365\n",
      "Skew:                           0.081   Prob(JB):                        0.833\n",
      "Kurtosis:                       3.029   Cond. No.                     1.17e+05\n",
      "==============================================================================\n",
      "\n",
      "Notes:\n",
      "[1] Standard Errors assume that the covariance matrix of the errors is correctly specified.\n",
      "[2] The condition number is large, 1.17e+05. This might indicate that there are\n",
      "strong multicollinearity or other numerical problems.\n"
     ]
    }
   ],
   "source": [
    "formula = 'testscr ~ str + str_span+gr_computer+expn_stu+el_pct+np.power(el_pct, 2)+str'\n",
    "ols9 = smf.ols(formula=formula, data=train).fit()\n",
    "print(ols9.summary())\n",
    "resid9 = ols9.resid\n",
    "fitted9 = ols9.fittedvalues"
   ]
  },
  {
   "cell_type": "code",
   "execution_count": 83,
   "id": "checked-sunday",
   "metadata": {},
   "outputs": [
    {
     "name": "stdout",
     "output_type": "stream",
     "text": [
      "                            OLS Regression Results                            \n",
      "==============================================================================\n",
      "Dep. Variable:                testscr   R-squared:                       0.518\n",
      "Model:                            OLS   Adj. R-squared:                  0.507\n",
      "Method:                 Least Squares   F-statistic:                     48.45\n",
      "Date:                Mon, 07 Jun 2021   Prob (F-statistic):           1.77e-46\n",
      "Time:                        15:24:30   Log-Likelihood:                -1287.2\n",
      "No. Observations:                 324   AIC:                             2590.\n",
      "Df Residuals:                     316   BIC:                             2621.\n",
      "Df Model:                           7                                         \n",
      "Covariance Type:            nonrobust                                         \n",
      "=======================================================================================\n",
      "                          coef    std err          t      P>|t|      [0.025      0.975]\n",
      "---------------------------------------------------------------------------------------\n",
      "Intercept             672.4631     15.692     42.853      0.000     641.588     703.338\n",
      "str                     0.2971      0.511      0.582      0.561      -0.708       1.302\n",
      "str_span               -0.9913      0.152     -6.532      0.000      -1.290      -0.693\n",
      "gr_computer             0.0233      0.006      3.737      0.000       0.011       0.036\n",
      "expn_stu                0.0006      0.001      0.390      0.697      -0.002       0.004\n",
      "el_pct                 -0.9782      0.116     -8.413      0.000      -1.207      -0.749\n",
      "np.power(el_pct, 2)     0.0051      0.002      2.860      0.005       0.002       0.009\n",
      "computer               -0.0121      0.006     -2.085      0.038      -0.024      -0.001\n",
      "==============================================================================\n",
      "Omnibus:                        1.015   Durbin-Watson:                   2.036\n",
      "Prob(Omnibus):                  0.602   Jarque-Bera (JB):                0.819\n",
      "Skew:                           0.113   Prob(JB):                        0.664\n",
      "Kurtosis:                       3.097   Cond. No.                     1.17e+05\n",
      "==============================================================================\n",
      "\n",
      "Notes:\n",
      "[1] Standard Errors assume that the covariance matrix of the errors is correctly specified.\n",
      "[2] The condition number is large, 1.17e+05. This might indicate that there are\n",
      "strong multicollinearity or other numerical problems.\n"
     ]
    }
   ],
   "source": [
    "formula = 'testscr ~ str + str_span+gr_computer+expn_stu+el_pct+np.power(el_pct, 2)+computer'\n",
    "ols10 = smf.ols(formula=formula, data=train).fit()\n",
    "print(ols10.summary())\n",
    "resid10 = ols10.resid\n",
    "fitted10 = ols10.fittedvalues"
   ]
  },
  {
   "cell_type": "code",
   "execution_count": 84,
   "id": "adjacent-payday",
   "metadata": {},
   "outputs": [],
   "source": [
    "#model selection\n",
    "#interaction of grspan&student (1)\n",
    "#interaction of grspan&comp_stu (2)\n",
    "#log transformation of 'calw_pct','computer','expn_stu','avginc','el_pct' (3)\n",
    "#square of str, cubic of str, (5-6)\n",
    "#train['expn_stu']"
   ]
  },
  {
   "cell_type": "code",
   "execution_count": 85,
   "id": "western-ghost",
   "metadata": {},
   "outputs": [
    {
     "ename": "TypeError",
     "evalue": "tuple indices must be integers or slices, not str",
     "output_type": "error",
     "traceback": [
      "\u001b[0;31m---------------------------------------------------------------------------\u001b[0m",
      "\u001b[0;31mTypeError\u001b[0m                                 Traceback (most recent call last)",
      "\u001b[0;32m<ipython-input-85-b690e7acc4bd>\u001b[0m in \u001b[0;36m<module>\u001b[0;34m\u001b[0m\n\u001b[1;32m      4\u001b[0m \u001b[0;31m#train['']\u001b[0m\u001b[0;34m\u001b[0m\u001b[0;34m\u001b[0m\u001b[0;34m\u001b[0m\u001b[0m\n\u001b[1;32m      5\u001b[0m \u001b[0;34m\u001b[0m\u001b[0m\n\u001b[0;32m----> 6\u001b[0;31m \u001b[0mtest\u001b[0m\u001b[0;34m[\u001b[0m\u001b[0;34m'gr_calw'\u001b[0m\u001b[0;34m]\u001b[0m\u001b[0;34m=\u001b[0m\u001b[0mtest\u001b[0m\u001b[0;34m[\u001b[0m\u001b[0;34m'gr_span'\u001b[0m\u001b[0;34m]\u001b[0m\u001b[0;34m*\u001b[0m \u001b[0mtest\u001b[0m\u001b[0;34m[\u001b[0m\u001b[0;34m'calw_pct'\u001b[0m\u001b[0;34m]\u001b[0m\u001b[0;34m\u001b[0m\u001b[0;34m\u001b[0m\u001b[0m\n\u001b[0m\u001b[1;32m      7\u001b[0m \u001b[0mtest\u001b[0m\u001b[0;34m[\u001b[0m\u001b[0;34m'str_span'\u001b[0m\u001b[0;34m]\u001b[0m\u001b[0;34m=\u001b[0m\u001b[0mtest\u001b[0m\u001b[0;34m[\u001b[0m\u001b[0;34m'str'\u001b[0m\u001b[0;34m]\u001b[0m\u001b[0;34m*\u001b[0m \u001b[0mtest\u001b[0m\u001b[0;34m[\u001b[0m\u001b[0;34m'gr_span'\u001b[0m\u001b[0;34m]\u001b[0m\u001b[0;34m\u001b[0m\u001b[0;34m\u001b[0m\u001b[0m\n",
      "\u001b[0;31mTypeError\u001b[0m: tuple indices must be integers or slices, not str"
     ]
    }
   ],
   "source": [
    "#prediction\n",
    "train['gr_calw']=train['gr_span']* train['calw_pct']\n",
    "train['str_span']=train['str']* train['gr_span']\n",
    "#train['']\n",
    "\n",
    "# test['gr_calw']=test['gr_span']* test['calw_pct']\n",
    "# test['str_span']=test['str']* test['gr_span']"
   ]
  },
  {
   "cell_type": "code",
   "execution_count": 86,
   "id": "cultural-roommate",
   "metadata": {
    "scrolled": true
   },
   "outputs": [
    {
     "name": "stdout",
     "output_type": "stream",
     "text": [
      "                            OLS Regression Results                            \n",
      "==============================================================================\n",
      "Dep. Variable:                testscr   R-squared:                       0.796\n",
      "Model:                            OLS   Adj. R-squared:                  0.790\n",
      "Method:                 Least Squares   F-statistic:                     122.3\n",
      "Date:                Mon, 07 Jun 2021   Prob (F-statistic):          8.62e-102\n",
      "Time:                        15:22:23   Log-Likelihood:                -1147.7\n",
      "No. Observations:                 324   AIC:                             2317.\n",
      "Df Residuals:                     313   BIC:                             2359.\n",
      "Df Model:                          10                                         \n",
      "Covariance Type:            nonrobust                                         \n",
      "==============================================================================\n",
      "                 coef    std err          t      P>|t|      [0.025      0.975]\n",
      "------------------------------------------------------------------------------\n",
      "Intercept    664.9775     10.369     64.130      0.000     644.575     685.380\n",
      "str            0.0323      0.334      0.097      0.923      -0.624       0.689\n",
      "meal_pct      -0.3626      0.042     -8.690      0.000      -0.445      -0.280\n",
      "calw_pct      -0.1210      0.129     -0.938      0.349      -0.375       0.133\n",
      "computer      -0.0008      0.002     -0.484      0.629      -0.004       0.002\n",
      "comp_stu       8.1440      8.007      1.017      0.310      -7.611      23.899\n",
      "expn_stu       0.0007      0.001      0.709      0.479      -0.001       0.003\n",
      "avginc         0.5801      0.104      5.561      0.000       0.375       0.785\n",
      "el_pct        -0.2116      0.040     -5.228      0.000      -0.291      -0.132\n",
      "gr_calw        0.0519      0.125      0.416      0.678      -0.194       0.298\n",
      "str_span      -0.2460      0.103     -2.381      0.018      -0.449      -0.043\n",
      "==============================================================================\n",
      "Omnibus:                        7.399   Durbin-Watson:                   2.069\n",
      "Prob(Omnibus):                  0.025   Jarque-Bera (JB):               12.043\n",
      "Skew:                          -0.022   Prob(JB):                      0.00243\n",
      "Kurtosis:                       3.943   Cond. No.                     1.18e+05\n",
      "==============================================================================\n",
      "\n",
      "Notes:\n",
      "[1] Standard Errors assume that the covariance matrix of the errors is correctly specified.\n",
      "[2] The condition number is large, 1.18e+05. This might indicate that there are\n",
      "strong multicollinearity or other numerical problems.\n",
      "rmse=  8.504061922376227\n"
     ]
    }
   ],
   "source": [
    "#prediction\n",
    "formula = 'testscr ~ str + meal_pct +calw_pct+ computer+ comp_stu + expn_stu + avginc + el_pct+gr_calw+str_span'\n",
    "ols2 = smf.ols(formula=formula, data=train).fit()\n",
    "print(ols2.summary())\n",
    "resid = ols2.resid\n",
    "fitted = ols2.fittedvalues\n",
    "\n",
    "\n",
    "rmse3=ols2.mse_resid**0.5\n",
    "print('rmse= ',rmse3)"
   ]
  },
  {
   "cell_type": "code",
   "execution_count": 87,
   "id": "leading-coordination",
   "metadata": {},
   "outputs": [],
   "source": [
    "#predict  ？？？？？？\n",
    "# plt.scatter(np.array(test['testscr']), ols2.predict(test))\n",
    "# plt.xlabel('Observation')\n",
    "# plt.ylabel('Prediction')\n",
    "# plt.title('Observations Vs Prediction for the Test Set')"
   ]
  },
  {
   "cell_type": "code",
   "execution_count": null,
   "id": "addressed-stations",
   "metadata": {},
   "outputs": [
    {
     "name": "stdout",
     "output_type": "stream",
     "text": [
      "ERROR! Session/line number was not unique in database. History logging moved to new session 338\n"
     ]
    }
   ],
   "source": [
    "formula3 = 'testscr ~ str + meal_pct + calw_pct + computer + comp_stu+expn_stu +avginc+ el_pct+gr_calw+str_span'\n",
    "ols3 = smf.ols(formula=formula3,data=test).fit()\n",
    "resi3=ols3.resid\n",
    "fitted3=ols3.fittedvalues\n",
    "print(ols3.summary())\n",
    "rmse3=ols3.mse_resid**0.5\n",
    "print('rmse= ',rmse3)"
   ]
  },
  {
   "cell_type": "code",
   "execution_count": null,
   "id": "technological-antarctica",
   "metadata": {},
   "outputs": [
    {
     "name": "stdout",
     "output_type": "stream",
     "text": [
      "ERROR! Session/line number was not unique in database. History logging moved to new session 337\n"
     ]
    }
   ],
   "source": [
    "# predictions = ols2.predict(test)\n",
    "# rmse = np.sqrt(np.sum((predictions-test.testscr)**2)/test.shape[0])\n",
    "# rmse/np.mean(test.testscr)\n",
    "# rmse"
   ]
  },
  {
   "cell_type": "code",
   "execution_count": 1,
   "id": "major-least",
   "metadata": {},
   "outputs": [],
   "source": [
    "# r2 = 1 - np.sum((predictions-test.testscr)**2)/np.sum((test.testscr - np.mean(test.testscr))**2)\n",
    "# r2"
   ]
  },
  {
   "cell_type": "code",
   "execution_count": 2,
   "id": "inside-peninsula",
   "metadata": {},
   "outputs": [],
   "source": [
    "# mad = (np.sum(np.abs(test.testscr - np.median(test.testscr))))/test.shape[0]\n",
    "# mad"
   ]
  },
  {
   "cell_type": "code",
   "execution_count": 3,
   "id": "another-canberra",
   "metadata": {},
   "outputs": [],
   "source": [
    "#train['gr_calw']=train['gr_span']* train['calw_pct']\n",
    "#train['str_el']=train['str']* train['el_pct']\n",
    "#np.std(test.testscr)"
   ]
  },
  {
   "cell_type": "code",
   "execution_count": null,
   "id": "limited-perry",
   "metadata": {},
   "outputs": [],
   "source": []
  },
  {
   "cell_type": "code",
   "execution_count": null,
   "id": "suburban-parish",
   "metadata": {},
   "outputs": [],
   "source": []
  },
  {
   "cell_type": "code",
   "execution_count": null,
   "id": "flexible-asian",
   "metadata": {},
   "outputs": [],
   "source": []
  }
 ],
 "metadata": {
  "kernelspec": {
   "display_name": "Python 3",
   "language": "python",
   "name": "python3"
  },
  "language_info": {
   "codemirror_mode": {
    "name": "ipython",
    "version": 3
   },
   "file_extension": ".py",
   "mimetype": "text/x-python",
   "name": "python",
   "nbconvert_exporter": "python",
   "pygments_lexer": "ipython3",
   "version": "3.8.7"
  }
 },
 "nbformat": 4,
 "nbformat_minor": 5
}
