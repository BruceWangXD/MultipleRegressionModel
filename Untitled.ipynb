{
 "cells": [
  {
   "cell_type": "code",
   "execution_count": 36,
   "id": "processed-collect",
   "metadata": {},
   "outputs": [
    {
     "name": "stdout",
     "output_type": "stream",
     "text": [
      "1470490311\n"
     ]
    }
   ],
   "source": [
    "import pandas as pd\n",
    "import numpy as np\n",
    "import matplotlib.pyplot as plt\n",
    "import seaborn as sns\n",
    "import matplotlib.pyplot as plt\n",
    "\n",
    "import warnings\n",
    "warnings.filterwarnings('ignore')\n",
    "\n",
    "data=pd.read_excel('caschool.xlsx')\n",
    "\n",
    "\n",
    "data=data.iloc[:, :18]\n",
    "\n",
    "\n",
    "#490155963\n",
    "#490161470\n",
    "#490172878\n",
    "state=490172878+490161470+490155963 # replace this number with the sum of the student IDs for the members of the group\n",
    "print(state)\n",
    "\n",
    "\n",
    "train = data.sample(frac=0.8, random_state=state)\n",
    "test = data[data.index.isin(train.index)==False].copy() # Only for prediction\n",
    "\n",
    "train=train.reset_index(drop=True)\n",
    "test=test.reset_index(drop=True)"
   ]
  },
  {
   "cell_type": "code",
   "execution_count": 37,
   "id": "varied-rebel",
   "metadata": {},
   "outputs": [
    {
     "data": {
      "text/plain": [
       "(420, 18)"
      ]
     },
     "execution_count": 37,
     "metadata": {},
     "output_type": "execute_result"
    }
   ],
   "source": [
    "data.shape"
   ]
  },
  {
   "cell_type": "code",
   "execution_count": 38,
   "id": "tested-dancing",
   "metadata": {},
   "outputs": [
    {
     "name": "stdout",
     "output_type": "stream",
     "text": [
      "<class 'pandas.core.frame.DataFrame'>\n",
      "RangeIndex: 420 entries, 0 to 419\n",
      "Data columns (total 18 columns):\n",
      " #   Column              Non-Null Count  Dtype  \n",
      "---  ------              --------------  -----  \n",
      " 0   Observation Number  420 non-null    int64  \n",
      " 1   dist_cod            420 non-null    int64  \n",
      " 2   county              420 non-null    object \n",
      " 3   district            420 non-null    object \n",
      " 4   gr_span             420 non-null    object \n",
      " 5   enrl_tot            420 non-null    int64  \n",
      " 6   teachers            420 non-null    float64\n",
      " 7   calw_pct            420 non-null    float64\n",
      " 8   meal_pct            420 non-null    float64\n",
      " 9   computer            420 non-null    int64  \n",
      " 10  testscr             420 non-null    float64\n",
      " 11  comp_stu            420 non-null    float64\n",
      " 12  expn_stu            420 non-null    float64\n",
      " 13  str                 420 non-null    float64\n",
      " 14  avginc              420 non-null    float64\n",
      " 15  el_pct              420 non-null    float64\n",
      " 16  read_scr            420 non-null    float64\n",
      " 17  math_scr            420 non-null    float64\n",
      "dtypes: float64(11), int64(4), object(3)\n",
      "memory usage: 59.2+ KB\n"
     ]
    }
   ],
   "source": [
    "data.info()"
   ]
  },
  {
   "cell_type": "code",
   "execution_count": 39,
   "id": "ethical-rates",
   "metadata": {},
   "outputs": [],
   "source": [
    "train['enrl_tot']=np.log(train['enrl_tot'])\n",
    "train['teachers']=np.log(train['teachers'])\n",
    "\n",
    "train['calw_pct']=np.log(train['calw_pct'])\n",
    "train['computer']=np.log(train['computer'])\n",
    "\n",
    "#train['avginc']=np.log(train['avginc'])\n",
    "train['el_pct']=np.log(train['el_pct'])\n"
   ]
  },
  {
   "cell_type": "code",
   "execution_count": 40,
   "id": "hindu-budapest",
   "metadata": {},
   "outputs": [],
   "source": [
    "test['enrl_tot']=np.log(test['enrl_tot'])\n",
    "test['teachers']=np.log(test['teachers'])\n",
    "\n",
    "test['calw_pct']=np.log(test['calw_pct'])\n",
    "test['computer']=np.log(test['computer'])\n",
    "\n",
    "#test['avginc']=np.log(test['avginc'])\n",
    "test['el_pct']=np.log(test['el_pct'])\n",
    "\n"
   ]
  },
  {
   "cell_type": "code",
   "execution_count": null,
   "id": "olympic-benjamin",
   "metadata": {},
   "outputs": [],
   "source": [
    "\n"
   ]
  },
  {
   "cell_type": "code",
   "execution_count": null,
   "id": "ethical-drilling",
   "metadata": {},
   "outputs": [],
   "source": []
  }
 ],
 "metadata": {
  "kernelspec": {
   "display_name": "Python 3",
   "language": "python",
   "name": "python3"
  },
  "language_info": {
   "codemirror_mode": {
    "name": "ipython",
    "version": 3
   },
   "file_extension": ".py",
   "mimetype": "text/x-python",
   "name": "python",
   "nbconvert_exporter": "python",
   "pygments_lexer": "ipython3",
   "version": "3.8.7"
  }
 },
 "nbformat": 4,
 "nbformat_minor": 5
}
